{
 "cells": [
  {
   "cell_type": "code",
   "execution_count": 1,
   "metadata": {},
   "outputs": [],
   "source": [
    "import numpy as np\n",
    "import math"
   ]
  },
  {
   "cell_type": "code",
   "execution_count": 88,
   "metadata": {},
   "outputs": [],
   "source": [
    "class Chromosome:\n",
    "    def __init__(self, arr):\n",
    "        self.__n = len(arr)\n",
    "        self.__positions = np.array(arr)\n",
    "\n",
    "\n",
    "    def get_n(self):\n",
    "        return self.__n\n",
    "\n",
    "\n",
    "    def get_positions(self):\n",
    "        return self.__positions\n",
    "\n",
    "\n",
    "    def print_board(self):\n",
    "        board = np.zeros((len(self.__positions), len(self.__positions)), \n",
    "            dtype = int)\n",
    "        for i, pos in enumerate(self.__positions):\n",
    "            board[pos][i] = 15\n",
    "        print(board)\n",
    "\n",
    "\n",
    "    # Returns a numpy array.\n",
    "\n",
    "    def random_chromosome(self):\n",
    "        pool = np.arange(self.__n)\n",
    "        chr = np.zeros(self.__n, dtype = int)\n",
    "        r = np.random.randint(0, 1 + math.floor((self.__n - 1) / 2 ) )\n",
    "        chr[0] = r\n",
    "        pool = np.delete(pool, r)\n",
    "\n",
    "        for i in range(1, self.__n):\n",
    "            r = np.random.randint(0, len(pool))\n",
    "            chr[i] = pool[r]\n",
    "            pool = np.delete(pool, r)\n",
    "\n",
    "        return chr\n",
    "\n",
    "\n",
    "    def make_child(self):\n",
    "        if self.__n <= 2:\n",
    "            return self.__positions.copy()\n",
    "        mutant = self.__positions.copy()\n",
    "        cols_pool = np.arange(self.__n)\n",
    "        c1, c2 = np.random.choice(cols_pool, size = 2, replace = False)\n",
    "        cols_pool = np.delete(cols_pool, np.where( cols_pool == c1))\n",
    "\n",
    "        if c1 == 0 and self.__positions[c2] > math.floor((self.__n - 1) / 2 ):\n",
    "            while self.__positions[c2] > math.floor((self.__n - 1) / 2 ):\n",
    "                cols_pool = np.delete(cols_pool, np.where( cols_pool == c2))\n",
    "                c2 = np.random.choice(cols_pool)\n",
    "        elif (c2 == 0 and \n",
    "            self.__positions[c1] > math.floor((self.__n - 1) / 2 ) ):\n",
    "\n",
    "            cols_pool = np.delete(cols_pool, 0)\n",
    "            c2 = np.random.choice(cols_pool)\n",
    "        c1, c2 = min(c1,c2), max(c1,c2)\n",
    "        mutant[c1], mutant[c2] = mutant[c2], mutant[c1]\n",
    "        return Chromosome(mutant)\n",
    "\n",
    "\n",
    "    \n",
    "    # A mutual attack is a pair of queens on the same diagonal.\n",
    "    # The format grants that there are no queens on the same row or column.\n",
    "    # Mutual attacks consider an attack between two queens\n",
    "    # even if there is another queen in the middle.\n",
    "    # If in a position there are only two queens attacking each other,\n",
    "    # the number of mutual attacks is 1.\n",
    "    # The maximum number of mutual attacks is 28, and it occurs when all\n",
    "    # queens are on the same diagonal.\n",
    "    \n",
    "\n",
    "    def mutual_threats(self):\n",
    "        threats = 0\n",
    "        for i in range(self.__n):\n",
    "            for j in range(self.__n):\n",
    "                if i == j:\n",
    "                    continue\n",
    "                if (abs(i - j) == \n",
    "                    abs(self.__positions[i] - self.__positions[j]) ):\n",
    "\n",
    "                    threats += 1\n",
    "        mutualT = threats / 2\n",
    "        return mutualT\n",
    "\n",
    "\n",
    "    # Normalized fitness function\n",
    "    \n",
    "    def fitness(self):\n",
    "        max_threats = (self.__n * (self.__n - 1) / 2)\n",
    "        if self.__n <= 1:\n",
    "            return 1\n",
    "        fitness = (max_threats - self.mutual_threats()) / max_threats\n",
    "        if fitness == 1:\n",
    "            print(f\"SOLUTION FOUND: {self.get_positions()}\")\n",
    "        return fitness\n"
   ]
  },
  {
   "attachments": {},
   "cell_type": "markdown",
   "metadata": {},
   "source": [
    "# Testing"
   ]
  },
  {
   "attachments": {},
   "cell_type": "markdown",
   "metadata": {},
   "source": [
    "## _ _ init _ _ ( )"
   ]
  },
  {
   "cell_type": "code",
   "execution_count": 83,
   "metadata": {},
   "outputs": [
    {
     "name": "stdout",
     "output_type": "stream",
     "text": [
      "[0 1 2 3]\n",
      "4\n"
     ]
    }
   ],
   "source": [
    "base = Chromosome(np.arange(4))\n",
    "print(base.get_positions())\n",
    "print(base.get_n())"
   ]
  },
  {
   "cell_type": "code",
   "execution_count": 84,
   "metadata": {},
   "outputs": [
    {
     "data": {
      "text/plain": [
       "array([0, 2, 1, 3, 4])"
      ]
     },
     "execution_count": 84,
     "metadata": {},
     "output_type": "execute_result"
    }
   ],
   "source": [
    "chr.make_child().get_positions()"
   ]
  },
  {
   "attachments": {},
   "cell_type": "markdown",
   "metadata": {},
   "source": [
    "## print_board()"
   ]
  },
  {
   "cell_type": "code",
   "execution_count": 89,
   "metadata": {},
   "outputs": [
    {
     "name": "stdout",
     "output_type": "stream",
     "text": [
      "[0 1 2 3]\n",
      "4\n"
     ]
    }
   ],
   "source": [
    "base = Chromosome(np.arange(4))\n",
    "print(base.get_positions())\n",
    "print(base.get_n())"
   ]
  },
  {
   "cell_type": "code",
   "execution_count": 90,
   "metadata": {},
   "outputs": [
    {
     "name": "stdout",
     "output_type": "stream",
     "text": [
      "[[15  0  0  0]\n",
      " [ 0 15  0  0]\n",
      " [ 0  0 15  0]\n",
      " [ 0  0  0 15]]\n"
     ]
    }
   ],
   "source": [
    "base.print_board()"
   ]
  },
  {
   "attachments": {},
   "cell_type": "markdown",
   "metadata": {},
   "source": [
    "## random_chromosome()"
   ]
  },
  {
   "cell_type": "code",
   "execution_count": 91,
   "metadata": {},
   "outputs": [
    {
     "name": "stdout",
     "output_type": "stream",
     "text": [
      "[1 4 2 0 3]\n"
     ]
    }
   ],
   "source": [
    "base = Chromosome(np.arange(5))\n",
    "random_chr = Chromosome(base.random_chromosome())\n",
    "print(random_chr.get_positions())"
   ]
  },
  {
   "cell_type": "code",
   "execution_count": 93,
   "metadata": {},
   "outputs": [
    {
     "name": "stdout",
     "output_type": "stream",
     "text": [
      "[[ 0  0  0 15  0]\n",
      " [15  0  0  0  0]\n",
      " [ 0  0 15  0  0]\n",
      " [ 0  0  0  0 15]\n",
      " [ 0 15  0  0  0]]\n"
     ]
    }
   ],
   "source": [
    "random_chr.print_board()"
   ]
  },
  {
   "attachments": {},
   "cell_type": "markdown",
   "metadata": {},
   "source": [
    "## make_child()"
   ]
  },
  {
   "cell_type": "code",
   "execution_count": 6,
   "metadata": {},
   "outputs": [
    {
     "name": "stdout",
     "output_type": "stream",
     "text": [
      "[1 2 4 0 3]\n"
     ]
    }
   ],
   "source": [
    "base = Chromosome(np.arange(5))\n",
    "chr = Chromosome(base.random_chromosome())\n",
    "print(chr.get_positions())"
   ]
  },
  {
   "cell_type": "code",
   "execution_count": 7,
   "metadata": {},
   "outputs": [
    {
     "name": "stdout",
     "output_type": "stream",
     "text": [
      "[1 3 4 0 2]\n"
     ]
    }
   ],
   "source": [
    "child = chr.make_child()\n",
    "print(child.get_positions())"
   ]
  },
  {
   "attachments": {},
   "cell_type": "markdown",
   "metadata": {},
   "source": [
    "## mutual_threats()"
   ]
  },
  {
   "cell_type": "code",
   "execution_count": 99,
   "metadata": {},
   "outputs": [
    {
     "name": "stdout",
     "output_type": "stream",
     "text": [
      "[1 4 3 2 0]\n",
      "chr.mutual_threats(): 4.0\n"
     ]
    }
   ],
   "source": [
    "base = Chromosome(np.arange(5))\n",
    "chr = Chromosome(base.random_chromosome())\n",
    "print(chr.get_positions())\n",
    "print(f\"chr.mutual_threats(): {chr.mutual_threats()}\")\n"
   ]
  },
  {
   "cell_type": "code",
   "execution_count": 100,
   "metadata": {},
   "outputs": [
    {
     "name": "stdout",
     "output_type": "stream",
     "text": [
      "[[ 0  0  0  0 15]\n",
      " [15  0  0  0  0]\n",
      " [ 0  0  0 15  0]\n",
      " [ 0  0 15  0  0]\n",
      " [ 0 15  0  0  0]]\n"
     ]
    }
   ],
   "source": [
    "chr.print_board()\n"
   ]
  },
  {
   "attachments": {},
   "cell_type": "markdown",
   "metadata": {},
   "source": [
    "## fitness()"
   ]
  },
  {
   "cell_type": "code",
   "execution_count": 102,
   "metadata": {},
   "outputs": [
    {
     "name": "stdout",
     "output_type": "stream",
     "text": [
      "[1 3 4 2 0]\n",
      "chr.mutual_threats(): 2.0\n",
      "chr.fitness(): 0.8\n"
     ]
    }
   ],
   "source": [
    "base = Chromosome(np.arange(5))\n",
    "chr = Chromosome(base.random_chromosome())\n",
    "print(chr.get_positions())\n",
    "print(f\"chr.mutual_threats(): {chr.mutual_threats()}\")\n",
    "print(f\"chr.fitness(): {chr.fitness()}\")"
   ]
  },
  {
   "cell_type": "code",
   "execution_count": 103,
   "metadata": {},
   "outputs": [
    {
     "name": "stdout",
     "output_type": "stream",
     "text": [
      "[[ 0  0  0  0 15]\n",
      " [15  0  0  0  0]\n",
      " [ 0  0  0 15  0]\n",
      " [ 0 15  0  0  0]\n",
      " [ 0  0 15  0  0]]\n"
     ]
    }
   ],
   "source": [
    "chr.print_board()"
   ]
  }
 ],
 "metadata": {
  "kernelspec": {
   "display_name": "JNotebook",
   "language": "python",
   "name": "python3"
  },
  "language_info": {
   "codemirror_mode": {
    "name": "ipython",
    "version": 3
   },
   "file_extension": ".py",
   "mimetype": "text/x-python",
   "name": "python",
   "nbconvert_exporter": "python",
   "pygments_lexer": "ipython3",
   "version": "3.11.0"
  },
  "orig_nbformat": 4,
  "vscode": {
   "interpreter": {
    "hash": "0e66c959f5d77bb1e57246f829e345acab1d0f17b55cc99097fd285b0b092c57"
   }
  }
 },
 "nbformat": 4,
 "nbformat_minor": 2
}
