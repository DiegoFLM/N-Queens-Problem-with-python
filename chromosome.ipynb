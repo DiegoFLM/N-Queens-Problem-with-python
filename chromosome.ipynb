{
 "cells": [
  {
   "cell_type": "code",
   "execution_count": 176,
   "metadata": {},
   "outputs": [],
   "source": [
    "import numpy as np\n",
    "from math import floor"
   ]
  },
  {
   "cell_type": "code",
   "execution_count": 451,
   "metadata": {},
   "outputs": [],
   "source": [
    "class Chromosome:\n",
    "    def __init__(self, arr):\n",
    "        self.__n = len(arr)\n",
    "        self.__positions = np.array(arr)\n",
    "    \n",
    "    def get_n(self):\n",
    "        return self.__n\n",
    "    \n",
    "    def get_positions(self):\n",
    "        return self.__positions\n",
    "    \n",
    "    def random_chromosome(self):\n",
    "        pool = np.arange(self.__n)\n",
    "        chr = np.zeros(self.__n, dtype=int)\n",
    "        r = np.random.randint(0, 1 + floor((self.__n - 1) / 2 ) )\n",
    "        chr[0] = r\n",
    "        pool = np.delete(pool, r)\n",
    "\n",
    "        for i in range(1, self.__n):\n",
    "            r = np.random.randint(0, len(pool))\n",
    "            chr[i] = pool[r]\n",
    "            pool = np.delete(pool, r)\n",
    "        \n",
    "\n",
    "        #chr = np.random.choice(pool, size=self.__n, replace=False)\n",
    "        return chr\n",
    "    \n",
    "    def make_child(self):\n",
    "        if self.__n <= 2:\n",
    "            return self.__positions.copy()\n",
    "        mutant = self.__positions.copy()\n",
    "        cols_pool = np.arange(self.__n)\n",
    "        c1, c2 = np.random.choice(cols_pool, size=2, replace=False)\n",
    "        cols_pool = np.delete(cols_pool, np.where( cols_pool == c1))\n",
    "\n",
    "        if c1 == 0 and self.__positions[c2] > floor((self.__n - 1) / 2 ):\n",
    "            while self.__positions[c2] > floor((self.__n - 1) / 2 ):\n",
    "                cols_pool = np.delete(cols_pool, np.where( cols_pool == c2))\n",
    "                c2 = np.random.choice(cols_pool)\n",
    "        elif c2 == 0 and self.__positions[c1] > floor((self.__n - 1) / 2 ):\n",
    "            cols_pool = np.delete(cols_pool, 0)\n",
    "            c2 = np.random.choice(cols_pool)\n",
    "        c1, c2 = min(c1,c2), max(c1,c2)\n",
    "        mutant[c1], mutant[c2] = mutant[c2], mutant[c1]\n",
    "        return Chromosome(mutant)\n"
   ]
  },
  {
   "cell_type": "code",
   "execution_count": 481,
   "metadata": {},
   "outputs": [
    {
     "name": "stdout",
     "output_type": "stream",
     "text": [
      "[0 1 2 3]\n",
      "4\n"
     ]
    }
   ],
   "source": [
    "chr = Chromosome(np.arange(4))\n",
    "print(chr.get_positions())\n",
    "print(chr.get_n())"
   ]
  },
  {
   "cell_type": "code",
   "execution_count": 482,
   "metadata": {},
   "outputs": [
    {
     "data": {
      "text/plain": [
       "array([0, 1, 3, 2])"
      ]
     },
     "execution_count": 482,
     "metadata": {},
     "output_type": "execute_result"
    }
   ],
   "source": [
    "chr.make_child().get_positions()"
   ]
  }
 ],
 "metadata": {
  "kernelspec": {
   "display_name": "JNotebook",
   "language": "python",
   "name": "python3"
  },
  "language_info": {
   "codemirror_mode": {
    "name": "ipython",
    "version": 3
   },
   "file_extension": ".py",
   "mimetype": "text/x-python",
   "name": "python",
   "nbconvert_exporter": "python",
   "pygments_lexer": "ipython3",
   "version": "3.11.0"
  },
  "orig_nbformat": 4,
  "vscode": {
   "interpreter": {
    "hash": "0e66c959f5d77bb1e57246f829e345acab1d0f17b55cc99097fd285b0b092c57"
   }
  }
 },
 "nbformat": 4,
 "nbformat_minor": 2
}
