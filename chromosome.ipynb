{
 "cells": [
  {
   "cell_type": "code",
   "execution_count": 1,
   "metadata": {},
   "outputs": [],
   "source": [
    "import numpy as np"
   ]
  },
  {
   "cell_type": "code",
   "execution_count": 17,
   "metadata": {},
   "outputs": [],
   "source": [
    "class Chromosome:\n",
    "    def __init__(self, v):\n",
    "        self.__n = len(v)\n",
    "        self.__positions = np.array(v)\n",
    "    \n",
    "    def get_n(self):\n",
    "        return self.__n\n",
    "    \n",
    "    def get_positions(self):\n",
    "        return self.__positions\n",
    "    \n",
    "    def random_chromosome(self):\n",
    "        pool = np.arange(self.__n)\n",
    "        crom = np.random.choice(pool, size=self.__n, replace=False)\n",
    "        return crom\n",
    "    \n",
    "    def make_child(self):\n",
    "        if self.__n <= 2:\n",
    "            return self.__positions.copy()\n",
    "        mutant = self.__positions.copy()\n",
    "        cols_pool = np.arange(self.__n)\n",
    "        c1, c2 = np.random.choice(cols_pool, size=2, replace=False)\n",
    "        if c1 == 0 and self.__positions[c2] > ((self.__n - 1) / 2 ).floor():\n",
    "            while self.__positions[c2] > ((self.__n - 1) / 2 ).floor():\n",
    "                cols_pool = np.delete(cols_pool, c2)\n",
    "                c2 = np.random.choice(cols_pool)\n",
    "        elif c2 == 0 and self.__positions[c1] > ((self.__n - 1) / 2 ).floor():\n",
    "            cols_pool = np.delete(cols_pool, 0)\n",
    "            c2 = np.random.choice(cols_pool)\n",
    "        c1, c2 = min(c1,c2), max(c1,c2)\n",
    "        mutant[c1], mutant[c2] = mutant[c2], mutant[c1]\n",
    "        return Chromosome(mutant)\n"
   ]
  },
  {
   "cell_type": "code",
   "execution_count": 18,
   "metadata": {},
   "outputs": [
    {
     "data": {
      "text/plain": [
       "4"
      ]
     },
     "execution_count": 18,
     "metadata": {},
     "output_type": "execute_result"
    }
   ],
   "source": [
    "chro = Chromosome(np.arange(4))\n",
    "chro.get_positions()\n",
    "chro.get_n()"
   ]
  },
  {
   "cell_type": "code",
   "execution_count": 19,
   "metadata": {},
   "outputs": [],
   "source": [
    "def funk():\n",
    "    print(\"HHH\")"
   ]
  },
  {
   "cell_type": "code",
   "execution_count": 20,
   "metadata": {},
   "outputs": [
    {
     "name": "stdout",
     "output_type": "stream",
     "text": [
      "HHH\n"
     ]
    }
   ],
   "source": [
    "funk()"
   ]
  }
 ],
 "metadata": {
  "kernelspec": {
   "display_name": "JNotebook",
   "language": "python",
   "name": "python3"
  },
  "language_info": {
   "codemirror_mode": {
    "name": "ipython",
    "version": 3
   },
   "file_extension": ".py",
   "mimetype": "text/x-python",
   "name": "python",
   "nbconvert_exporter": "python",
   "pygments_lexer": "ipython3",
   "version": "3.11.0"
  },
  "orig_nbformat": 4,
  "vscode": {
   "interpreter": {
    "hash": "0e66c959f5d77bb1e57246f829e345acab1d0f17b55cc99097fd285b0b092c57"
   }
  }
 },
 "nbformat": 4,
 "nbformat_minor": 2
}
