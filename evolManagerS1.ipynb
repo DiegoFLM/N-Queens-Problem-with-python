{
 "cells": [
  {
   "cell_type": "code",
   "execution_count": 16,
   "metadata": {},
   "outputs": [],
   "source": [
    "import nbimporter\n",
    "import numpy as np\n",
    "import random\n",
    "import time\n",
    "import math\n",
    "\n",
    "import chromosome as Chr"
   ]
  },
  {
   "cell_type": "code",
   "execution_count": 17,
   "metadata": {},
   "outputs": [],
   "source": [
    "from chromosome import Chromosome"
   ]
  },
  {
   "cell_type": "code",
   "execution_count": 3,
   "metadata": {},
   "outputs": [
    {
     "data": {
      "text/plain": [
       "array([0, 1, 2])"
      ]
     },
     "execution_count": 3,
     "metadata": {},
     "output_type": "execute_result"
    }
   ],
   "source": [
    "chro2 = Chr.Chromosome(np.arange(3))\n",
    "chro2.get_positions()"
   ]
  },
  {
   "cell_type": "code",
   "execution_count": 20,
   "metadata": {},
   "outputs": [],
   "source": [
    "class EvolManager:\n",
    "    def __init__(\n",
    "        self,\n",
    "        genes_per_chrom,\n",
    "        pop,\n",
    "        generations,\n",
    "        mating_pool_size = None,\n",
    "        offspring = None,\n",
    "        mutation_rate = 0.2,\n",
    "        ):\n",
    "\n",
    "        if mating_pool_size is None:\n",
    "            mating_pool_size = math.floor(pop * 0.5)\n",
    "\n",
    "        if offspring is None:\n",
    "            offspring = mating_pool_size * 1.5\n",
    "\n",
    "        self.__n = genes_per_chrom\n",
    "        self.__population = pop\n",
    "        self.__generations = generations\n",
    "        self.__current_generation = 0\n",
    "        self.__chrom_array = []\n",
    "        self.__solutions = []\n",
    "        self.__sol_generation = np.array([])\n",
    "        self.__matingPool = []\n",
    "        self.__sortedCromArr = []\n",
    "        self.__mating_pool_size = mating_pool_size\n",
    "        self.__offspring = []\n",
    "        self.__offspring_size = offspring\n",
    "        self.__big_arr = []\n",
    "        self.__solution_times = []\n",
    "\n",
    "        self.populate()\n",
    "\n",
    "    def populate(self):\n",
    "        proto_chrom = Chromosome(list(range(self.__n)))\n",
    "\n",
    "        for i in range(self.__population):\n",
    "            self.__chrom_array.append(Chromosome(proto_chrom.random_chromosome()))\n",
    "\n",
    "        for i in range(len(self.__chrom_array)):\n",
    "            new_sol = True\n",
    "            if self.__chrom_array[i].fitness() == 1.00:\n",
    "                for j in range(len(self.__solutions)):\n",
    "                    if self.__chrom_array[i].get_positions() == self.__solutions[j].get_positions():\n",
    "                        new_sol = False\n",
    "                        break\n",
    "                if new_sol:\n",
    "                    self.__solutions.append(self.__chrom_array[i])\n",
    "                    self.__sol_generation.append(self.__current_generation)\n",
    "\n",
    "        print(\"It's populated over here!\")"
   ]
  },
  {
   "cell_type": "code",
   "execution_count": 12,
   "metadata": {},
   "outputs": [],
   "source": [
    "class EvolManager:\n",
    "    def populate(self):\n",
    "        print(\"Populating...\")"
   ]
  },
  {
   "cell_type": "code",
   "execution_count": 21,
   "metadata": {},
   "outputs": [
    {
     "ename": "AttributeError",
     "evalue": "'Chromosome' object has no attribute 'fitness'",
     "output_type": "error",
     "traceback": [
      "\u001b[0;31m---------------------------------------------------------------------------\u001b[0m",
      "\u001b[0;31mAttributeError\u001b[0m                            Traceback (most recent call last)",
      "Cell \u001b[0;32mIn[21], line 1\u001b[0m\n\u001b[0;32m----> 1\u001b[0m evol_manager \u001b[39m=\u001b[39m EvolManager(\u001b[39m3\u001b[39;49m, \u001b[39m10\u001b[39;49m, \u001b[39m10\u001b[39;49m)\n",
      "Cell \u001b[0;32mIn[20], line 33\u001b[0m, in \u001b[0;36mEvolManager.__init__\u001b[0;34m(self, genes_per_chrom, pop, generations, mating_pool_size, offspring, mutation_rate)\u001b[0m\n\u001b[1;32m     30\u001b[0m \u001b[39mself\u001b[39m\u001b[39m.\u001b[39m__big_arr \u001b[39m=\u001b[39m []\n\u001b[1;32m     31\u001b[0m \u001b[39mself\u001b[39m\u001b[39m.\u001b[39m__solution_times \u001b[39m=\u001b[39m []\n\u001b[0;32m---> 33\u001b[0m \u001b[39mself\u001b[39;49m\u001b[39m.\u001b[39;49mpopulate()\n",
      "Cell \u001b[0;32mIn[20], line 43\u001b[0m, in \u001b[0;36mEvolManager.populate\u001b[0;34m(self)\u001b[0m\n\u001b[1;32m     41\u001b[0m \u001b[39mfor\u001b[39;00m i \u001b[39min\u001b[39;00m \u001b[39mrange\u001b[39m(\u001b[39mlen\u001b[39m(\u001b[39mself\u001b[39m\u001b[39m.\u001b[39m__chrom_array)):\n\u001b[1;32m     42\u001b[0m     new_sol \u001b[39m=\u001b[39m \u001b[39mTrue\u001b[39;00m\n\u001b[0;32m---> 43\u001b[0m     \u001b[39mif\u001b[39;00m \u001b[39mself\u001b[39;49m\u001b[39m.\u001b[39;49m__chrom_array[i]\u001b[39m.\u001b[39;49mfitness() \u001b[39m==\u001b[39m \u001b[39m1.00\u001b[39m:\n\u001b[1;32m     44\u001b[0m         \u001b[39mfor\u001b[39;00m j \u001b[39min\u001b[39;00m \u001b[39mrange\u001b[39m(\u001b[39mlen\u001b[39m(\u001b[39mself\u001b[39m\u001b[39m.\u001b[39m__solutions)):\n\u001b[1;32m     45\u001b[0m             \u001b[39mif\u001b[39;00m \u001b[39mself\u001b[39m\u001b[39m.\u001b[39m__chrom_array[i]\u001b[39m.\u001b[39mget_positions() \u001b[39m==\u001b[39m \u001b[39mself\u001b[39m\u001b[39m.\u001b[39m__solutions[j]\u001b[39m.\u001b[39mget_positions():\n",
      "\u001b[0;31mAttributeError\u001b[0m: 'Chromosome' object has no attribute 'fitness'"
     ]
    }
   ],
   "source": [
    "evol_manager = EvolManager(3, 10, 10)"
   ]
  },
  {
   "attachments": {},
   "cell_type": "markdown",
   "metadata": {},
   "source": [
    "# temp"
   ]
  },
  {
   "cell_type": "code",
   "execution_count": 34,
   "metadata": {},
   "outputs": [],
   "source": [
    "def funk(x: int):\n",
    "    return x"
   ]
  },
  {
   "cell_type": "code",
   "execution_count": 35,
   "metadata": {},
   "outputs": [
    {
     "data": {
      "text/plain": [
       "'s'"
      ]
     },
     "execution_count": 35,
     "metadata": {},
     "output_type": "execute_result"
    }
   ],
   "source": [
    "funk(\"s\")"
   ]
  },
  {
   "cell_type": "code",
   "execution_count": 5,
   "metadata": {},
   "outputs": [
    {
     "data": {
      "text/plain": [
       "0"
      ]
     },
     "execution_count": 5,
     "metadata": {},
     "output_type": "execute_result"
    }
   ],
   "source": [
    "math.floor(0.99)"
   ]
  },
  {
   "cell_type": "code",
   "execution_count": 25,
   "metadata": {},
   "outputs": [],
   "source": [
    "def funk(att_1, att_2 = None):\n",
    "    # if att_2 is not set, set it to att_1\n",
    "    if att_2 is None:\n",
    "        att_2 = att_1\n",
    "    return att_1, att_2"
   ]
  },
  {
   "cell_type": "code",
   "execution_count": 26,
   "metadata": {},
   "outputs": [
    {
     "name": "stdout",
     "output_type": "stream",
     "text": [
      "1 2\n"
     ]
    }
   ],
   "source": [
    "a, b = funk(1, 2)\n",
    "print(a, b)"
   ]
  },
  {
   "cell_type": "code",
   "execution_count": 28,
   "metadata": {},
   "outputs": [
    {
     "name": "stdout",
     "output_type": "stream",
     "text": [
      "5 5\n"
     ]
    }
   ],
   "source": [
    "c, d = funk(5)\n",
    "print(c, d)"
   ]
  },
  {
   "attachments": {},
   "cell_type": "markdown",
   "metadata": {},
   "source": [
    "# Testing"
   ]
  },
  {
   "attachments": {},
   "cell_type": "markdown",
   "metadata": {},
   "source": [
    "## _ _ init _ _ ( )"
   ]
  },
  {
   "attachments": {},
   "cell_type": "markdown",
   "metadata": {},
   "source": [
    "evolver = "
   ]
  }
 ],
 "metadata": {
  "kernelspec": {
   "display_name": "JNotebook",
   "language": "python",
   "name": "python3"
  },
  "language_info": {
   "codemirror_mode": {
    "name": "ipython",
    "version": 3
   },
   "file_extension": ".py",
   "mimetype": "text/x-python",
   "name": "python",
   "nbconvert_exporter": "python",
   "pygments_lexer": "ipython3",
   "version": "3.11.0"
  },
  "orig_nbformat": 4,
  "vscode": {
   "interpreter": {
    "hash": "0e66c959f5d77bb1e57246f829e345acab1d0f17b55cc99097fd285b0b092c57"
   }
  }
 },
 "nbformat": 4,
 "nbformat_minor": 2
}
