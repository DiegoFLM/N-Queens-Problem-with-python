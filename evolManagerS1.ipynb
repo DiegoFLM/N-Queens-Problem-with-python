{
 "cells": [
  {
   "cell_type": "code",
   "execution_count": 1,
   "metadata": {},
   "outputs": [],
   "source": [
    "import nbimporter\n",
    "import numpy as np\n",
    "import random\n",
    "import time\n",
    "import chromosome as Chr"
   ]
  },
  {
   "cell_type": "code",
   "execution_count": 3,
   "metadata": {},
   "outputs": [
    {
     "data": {
      "text/plain": [
       "array([0, 1, 2])"
      ]
     },
     "execution_count": 3,
     "metadata": {},
     "output_type": "execute_result"
    }
   ],
   "source": [
    "chro2 = Chr.Chromosome(np.arange(3))\n",
    "chro2.get_positions()"
   ]
  },
  {
   "cell_type": "code",
   "execution_count": 4,
   "metadata": {},
   "outputs": [],
   "source": [
    "class EvolManager:\n",
    "    def __init__(self, n, pop, generations, matingPoolSize=80, offspring=80, noveltyAddRate=0.2):\n",
    "        self.__n = n\n",
    "        self.__population = pop\n",
    "        self.__generations = generations\n",
    "        self.__currentGeneration = 0\n",
    "        self.__cromArray = []\n",
    "        self.__solutions = []\n",
    "        self.__solGeneration = np.array([])\n",
    "        self.__matingPool = []\n",
    "        self.__sortedCromArr = []\n",
    "        self.__matingPoolSize = matingPoolSize\n",
    "        self.__offspring = []\n",
    "        self.__offspringSize = offspring\n",
    "        self.__bigArr = []\n",
    "        self.__solutionTimes = []\n",
    "\n",
    "        self.populate()"
   ]
  }
 ],
 "metadata": {
  "kernelspec": {
   "display_name": "JNotebook",
   "language": "python",
   "name": "python3"
  },
  "language_info": {
   "codemirror_mode": {
    "name": "ipython",
    "version": 3
   },
   "file_extension": ".py",
   "mimetype": "text/x-python",
   "name": "python",
   "nbconvert_exporter": "python",
   "pygments_lexer": "ipython3",
   "version": "3.11.0"
  },
  "orig_nbformat": 4,
  "vscode": {
   "interpreter": {
    "hash": "0e66c959f5d77bb1e57246f829e345acab1d0f17b55cc99097fd285b0b092c57"
   }
  }
 },
 "nbformat": 4,
 "nbformat_minor": 2
}
