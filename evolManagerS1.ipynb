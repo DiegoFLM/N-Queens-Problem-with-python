{
 "cells": [
  {
   "cell_type": "code",
   "execution_count": 2,
   "metadata": {},
   "outputs": [],
   "source": [
    "import nbimporter\n",
    "import numpy as np\n",
    "import random\n",
    "import time\n",
    "import math\n",
    "\n",
    "# import chromosome as Chr"
   ]
  },
  {
   "cell_type": "code",
   "execution_count": 3,
   "metadata": {},
   "outputs": [],
   "source": [
    "from chromosome import Chromosome"
   ]
  },
  {
   "cell_type": "code",
   "execution_count": 4,
   "metadata": {},
   "outputs": [
    {
     "data": {
      "text/plain": [
       "array([0, 1, 2])"
      ]
     },
     "execution_count": 4,
     "metadata": {},
     "output_type": "execute_result"
    }
   ],
   "source": [
    "base = Chromosome(np.arange(3))\n",
    "base.get_positions()"
   ]
  },
  {
   "cell_type": "code",
   "execution_count": 5,
   "metadata": {},
   "outputs": [],
   "source": [
    "class EvolManager:\n",
    "    def __init__(\n",
    "        self,\n",
    "        genes_per_chrom,\n",
    "        pop,\n",
    "        generations,\n",
    "        reproductive_pool_size = None,\n",
    "        offspring = None,\n",
    "        mutation_rate = 0.2,\n",
    "        reproductive_coefficient = 1 / 3,\n",
    "        ):\n",
    "\n",
    "        if reproductive_pool_size is None:\n",
    "            reproductive_pool_size = math.floor(pop * 0.8)\n",
    "\n",
    "        if offspring is None:\n",
    "            offspring = math.floor(reproductive_pool_size * 1.5)\n",
    "\n",
    "        self.__n = genes_per_chrom\n",
    "        self.__population = pop\n",
    "        self.__generations = generations\n",
    "        self.__current_generation = 0\n",
    "        self.__chrom_array = []\n",
    "        self.__solutions = []\n",
    "        self.__sol_generations = np.array([], dtype = int)\n",
    "        self.__reproductive_pool = []\n",
    "        self.__sorted_chrom_array = []\n",
    "        self.__reproductive_pool_size = reproductive_pool_size\n",
    "        self.__offspring = []\n",
    "        self.__offspring_size = int(offspring)\n",
    "        self.__big_array = []\n",
    "        self.__solution_times = np.array([])\n",
    "        self.__mutation_rate = mutation_rate\n",
    "        self.__reproductive_coefficient = reproductive_coefficient\n",
    "        self.__solution_times = np.array([], dtype = float)\n",
    "\n",
    "        self.__starting_time = None\n",
    "\n",
    "        self.populate()\n",
    "\n",
    "\n",
    "    def populate(self):\n",
    "        proto_chrom = Chromosome(list(range(self.__n)))\n",
    "\n",
    "        for i in range(self.__population):\n",
    "            self.__chrom_array.append( \n",
    "                Chromosome(proto_chrom.random_vec()) )\n",
    "\n",
    "        for i in range(len(self.__chrom_array)):\n",
    "            new_sol = True\n",
    "            if self.__chrom_array[i].fitness() == 1.00:\n",
    "                for j in range(len(self.__solutions)):\n",
    "                    if np.array_equal( self.__chrom_array[i].get_positions(),\n",
    "                        self.__solutions[j].get_positions() ):\n",
    "\n",
    "                        new_sol = False\n",
    "                        break\n",
    "                if new_sol:\n",
    "                    self.__solutions.append(self.__chrom_array[i])\n",
    "                    self.__sol_generations = np.append(self.__sol_generations, \n",
    "                        self.__current_generation)\n",
    "                    self.__solution_times = np.append(self.__solution_times, 0)\n",
    "        print(\"It's populated over here!\")\n",
    "\n",
    "\n",
    "    def get_chrom_array(self):\n",
    "        return self.__chrom_array\n",
    "\n",
    "\n",
    "    def get_solutions(self):\n",
    "        return self.__solutions\n",
    "\n",
    "\n",
    "    def get_solution_times(self):\n",
    "        return self.__solution_times\n",
    "\n",
    "    \n",
    "    def get_sol_generations(self):\n",
    "        return self.__sol_generations\n",
    "\n",
    "\n",
    "    def get_best_chrom_fitness(self):\n",
    "        ordered_popul = sorted( self.__chrom_array, \n",
    "            key = lambda chrom: - chrom.fitness() )\n",
    "        return ordered_popul[0].fitness()\n",
    "\n",
    "\n",
    "    def get_best_chrom_mutual_threats(self):\n",
    "        ordered_popul = sorted( self.__chrom_array, \n",
    "            key = lambda chrom: - chrom.fitness())\n",
    "        return ordered_popul[0].mutual_threats()\n",
    "\n",
    "\n",
    "    def get_reproductive_pool(self):\n",
    "        return self.__reproductive_pool\n",
    "\n",
    "\n",
    "    def get_offspring(self):\n",
    "        return self.__offspring\n",
    "\n",
    "    \n",
    "    def get_current_generation(self):\n",
    "        return self.__current_generation\n",
    "\n",
    "\n",
    "    def set_chrom_array(self, vec_array):\n",
    "       \n",
    "        self.__n = len(vec_array[0])\n",
    "        self.__population = len(vec_array)\n",
    "        self.__current_generation = 0\n",
    "        self.__chrom_array = []\n",
    "        self.__solutions = []\n",
    "        self.__sol_generations = np.array([], dtype = int)\n",
    "        self.__reproductive_pool = []\n",
    "        self.__sorted_chrom_array.clear()\n",
    "        self.__offspring.clear()\n",
    "        self.__big_array.clear()\n",
    "        self.__solution_times = np.array([])\n",
    "\n",
    "        for i in vec_array:\n",
    "            self.__chrom_array.append( Chromosome(i) )\n",
    "\n",
    "\n",
    "    # show_chromosomes\n",
    "    def show_chromosomes_positions(self):\n",
    "        print(\"__chrom_array members: \")\n",
    "        for i in self.__chrom_array:\n",
    "            print(f\"{i.get_positions()}\", end = \" \") \n",
    "            print(f\"fitness: {i.fitness()}\")\n",
    "\n",
    "\n",
    "\n",
    "    def show_solutions(self):\n",
    "        print(\"Solutions: \")\n",
    "        for i in range(len(self.__solutions)):\n",
    "            print(f\"solution [{i}]: {self.__solutions[i].get_positions()}. \\\n",
    "                    Generation: {self.__sol_generations[i]}\")\n",
    "\n",
    "        if len(self.__solutions) > 2:\n",
    "            if ( self.__solutions[len(self.__solutions) - 1].get_positions() \n",
    "                    == self.__solutions[len(self.__solutions) \n",
    "                    - 2].get_positions() ).all():\n",
    "                print(\"last solution repeated\")\n",
    "\n",
    "\n",
    "    def make_reproductive_pool(self):\n",
    "        self.__reproductive_pool.clear()\n",
    "\n",
    "        # Sort chromosomes by fitness in descending order\n",
    "        self.__sorted_chrom_array = sorted(self.__chrom_array, \n",
    "                key = lambda crom: - crom.fitness())\n",
    "\n",
    "        c = 0\n",
    "        while len(self.__reproductive_pool) < self.__reproductive_pool_size:\n",
    "            bool_signal = False\n",
    "            d = c % len(self.__sorted_chrom_array)\n",
    "\n",
    "            if ( len(self.__sorted_chrom_array ) <= (self.__population / 2) ):\n",
    "                self.__sorted_chrom_array.append( Chromosome( self.__chrom_array[0].random_vec() ) )\n",
    "\n",
    "            elif self.__n <= 2 or ( c > self.__population and len(self.__reproductive_pool) == 0 ):\n",
    "                self.__reproductive_pool = self.__sorted_chrom_array[:self.__reproductive_pool_size]\n",
    "\n",
    "            # Chromosomes have a probability of entering the reproductive pool proportional to their fitness,\n",
    "            # unless a entire iteration was made without adding any chromosome to the reproductive pool.\n",
    "            # Chromosomes with fitness = 0 usually don't enter the reproductive pool.\n",
    "            elif random.random() < (self.__sorted_chrom_array[ d ].fitness() * self.__reproductive_coefficient):\n",
    "                self.__reproductive_pool.append(self.__sorted_chrom_array[ d ])\n",
    "\n",
    "            # If a solution is found, it is removed from the reproductive pool \n",
    "            # and a random chromosome is added to the population.\n",
    "            if self.__sorted_chrom_array[ d ].fitness() == 1.000000:\n",
    "                if len(self.__solutions) == 0:\n",
    "                    self.__solutions.append(self.__sorted_chrom_array[ d ])\n",
    "                    self.__sol_generations = np.append(self.__sol_generations, self.__current_generation)\n",
    "                    ending = time.perf_counter()\n",
    "                    lapse = ending - self.__starting_time\n",
    "                    self.__solution_times= np.append(self.__solution_times, lapse)\n",
    "                    print(\"Time for first solution:\")\n",
    "                    print(lapse)\n",
    "\n",
    "                    # self.__reproductive_pool.append(self.__sorted_chrom_array[ d ].make_child())\n",
    "\n",
    "                    self.__chrom_array.append( Chromosome( self.__chrom_array[0].random_vec() ) )\n",
    "                    self.__chrom_array.remove(self.__sorted_chrom_array[ d ])\n",
    "                    self.__sorted_chrom_array.pop( d )\n",
    "                    \n",
    "                    continue\n",
    "                \n",
    "                \n",
    "                for i in range( len(self.__solutions) ):\n",
    "                    if ( self.__solutions[i].get_positions() \n",
    "                                == self.__sorted_chrom_array[ d ].get_positions() ).all():\n",
    "                        self.__chrom_array.append( Chromosome( self.__chrom_array[0].random_vec() ) )\n",
    "                        # self.__reproductive_pool.append(self.__sorted_chrom_array[ d ].make_child())\n",
    "                        if ( self.__sorted_chrom_array[ d ] in self.__chrom_array ):\n",
    "                            self.__chrom_array.remove(self.__sorted_chrom_array[ d ])\n",
    "                        \n",
    "                        \n",
    "\n",
    "                        if ( self.__sorted_chrom_array[ d ] in self.__reproductive_pool ):\n",
    "                            self.__reproductive_pool.remove(self.__sorted_chrom_array[ d ])\n",
    "\n",
    "                        self.__sorted_chrom_array.pop( d )\n",
    "\n",
    "                        bool_signal = True\n",
    "\n",
    "                        break\n",
    "                \n",
    "                if bool_signal:\n",
    "                    continue\n",
    "\n",
    "                else:\n",
    "                    self.__solutions.append(self.__sorted_chrom_array[ d ])\n",
    "                    self.__sol_generations = np.append(self.__sol_generations, self.__current_generation)\n",
    "                    ending = time.perf_counter()\n",
    "                    lapse = ending - self.__starting_time\n",
    "                    self.__solution_times = np.append(self.__solution_times, lapse)\n",
    "                    print(f\"Time for new solution: { lapse }\")\n",
    "\n",
    "            c += 1\n",
    "\n",
    "\n",
    "\n",
    "    def reproductive_season(self):\n",
    "        self.__offspring.clear()\n",
    "        print(f\"self.__offspring_size: {self.__offspring_size}\")\n",
    "        for i in range (self.__offspring_size):\n",
    "            self.__offspring.append( self.__reproductive_pool\n",
    "                [i % len(self.__reproductive_pool) ].make_child() )\n",
    "\n",
    "    \n",
    "    def replacement(self):\n",
    "        self.__big_array = self.__chrom_array + self.__offspring\n",
    "        self.__big_array = sorted(self.__big_array, key = lambda crom: - crom.fitness())\n",
    "        self.__chrom_array = self.__big_array[:self.__population]\n",
    "\n",
    "\n",
    "    def greedy_next_generation(self):\n",
    "        print(f\"Current generation: {self.__current_generation}\")\n",
    "        \n",
    "        self.make_reproductive_pool()\n",
    "        self.reproductive_season()\n",
    "        self.replacement()\n",
    "\n",
    "\n",
    "    def greedy_evolution(self):\n",
    "        self.__current_generation = 0\n",
    "        self.__chrom_array.clear()\n",
    "        self.__solutions.clear()\n",
    "        self.__sol_generations = np.array([], dtype = int)\n",
    "        self.__reproductive_pool.clear()\n",
    "        self.__sorted_chrom_array.clear()\n",
    "        self.__offspring.clear()\n",
    "        self.__big_array.clear()\n",
    "        self.__solution_times = np.array([], dtype = float)\n",
    "\n",
    "        self.populate()\n",
    "        self.__starting_time = time.perf_counter()\n",
    "\n",
    "        while self.__current_generation < self.__generations:\n",
    "            self.greedy_next_generation()\n",
    "            self.__current_generation += 1\n",
    "\n",
    "\n",
    "\n",
    "\n",
    "\n",
    "        print(f\"Current generation: {self.__current_generation}\")\n",
    "        print(f\"Population: {self.__population}\")\n",
    "        self.show_chromosomes_positions()\n",
    "        self.show_solutions()\n",
    "\n",
    "\n",
    "\n",
    "  \n",
    "        \n",
    "\n",
    "\n"
   ]
  },
  {
   "attachments": {},
   "cell_type": "markdown",
   "metadata": {},
   "source": [
    "# Testing"
   ]
  },
  {
   "attachments": {},
   "cell_type": "markdown",
   "metadata": {},
   "source": [
    "def __init__(  \n",
    "> self,  \n",
    "        genes_per_chrom,  \n",
    "        pop,  \n",
    "        generations,  \n",
    "        reproductive_pool_size = None,  \n",
    "        offspring = None,  \n",
    "        mutation_rate = 0.2,  \n",
    "        reproductive_coefficient = 1 / 3,\n",
    "        ):"
   ]
  },
  {
   "attachments": {},
   "cell_type": "markdown",
   "metadata": {},
   "source": [
    "## _ _ init _ _ ( ), populate(), get_chrom_array()"
   ]
  },
  {
   "cell_type": "code",
   "execution_count": 6,
   "metadata": {},
   "outputs": [
    {
     "name": "stdout",
     "output_type": "stream",
     "text": [
      "SOLUTION FOUND: [1 4 2 0 3] It's populated over here!\n",
      "[0 1 3 2 4]\n",
      "[0 1 3 2 4]\n",
      "[1 4 2 0 3]\n",
      "[2 3 0 4 1]\n",
      "[2 3 1 4 0]\n"
     ]
    }
   ],
   "source": [
    "evol_manager = EvolManager(5, 5, 10)\n",
    "for c in evol_manager.get_chrom_array():\n",
    "    print(c.get_positions())"
   ]
  },
  {
   "attachments": {},
   "cell_type": "markdown",
   "metadata": {},
   "source": [
    "## get_solutions()"
   ]
  },
  {
   "cell_type": "code",
   "execution_count": 7,
   "metadata": {},
   "outputs": [
    {
     "name": "stdout",
     "output_type": "stream",
     "text": [
      "SOLUTION FOUND: [2 4 1 3 0] SOLUTION FOUND: [0 2 4 1 3] SOLUTION FOUND: [2 0 3 1 4] SOLUTION FOUND: [1 4 2 0 3] It's populated over here!\n",
      "[0 2 3 1 4]\n",
      "[2 1 0 4 3]\n",
      "[0 4 2 3 1]\n",
      "[2 4 0 1 3]\n",
      "[1 3 0 4 2]\n",
      "[2 4 1 3 0]\n",
      "[1 3 2 0 4]\n",
      "[2 1 4 0 3]\n",
      "[1 4 0 2 3]\n",
      "[0 4 3 2 1]\n",
      "[0 2 1 4 3]\n",
      "[2 3 1 4 0]\n",
      "[2 0 1 3 4]\n",
      "[2 1 3 0 4]\n",
      "[1 0 4 3 2]\n",
      "[0 2 3 4 1]\n",
      "[1 2 3 4 0]\n",
      "[0 2 1 3 4]\n",
      "[0 2 3 4 1]\n",
      "[1 0 2 3 4]\n",
      "[0 2 1 4 3]\n",
      "[1 2 4 3 0]\n",
      "[1 0 2 3 4]\n",
      "[0 2 4 3 1]\n",
      "[0 3 2 4 1]\n",
      "[0 1 4 3 2]\n",
      "[1 3 4 0 2]\n",
      "[0 1 2 4 3]\n",
      "[0 2 4 1 3]\n",
      "[0 2 1 3 4]\n",
      "[1 2 0 3 4]\n",
      "[2 0 3 1 4]\n",
      "[1 2 3 4 0]\n",
      "[1 4 0 3 2]\n",
      "[1 4 2 3 0]\n",
      "[0 2 3 1 4]\n",
      "[2 4 0 1 3]\n",
      "[0 3 4 1 2]\n",
      "[0 3 4 2 1]\n",
      "[0 2 1 4 3]\n",
      "[1 3 0 4 2]\n",
      "[0 1 3 2 4]\n",
      "[2 1 4 3 0]\n",
      "[0 4 2 3 1]\n",
      "[1 3 0 4 2]\n",
      "[0 2 3 4 1]\n",
      "[2 1 4 0 3]\n",
      "[1 4 2 0 3]\n",
      "[1 3 4 2 0]\n",
      "[2 1 0 4 3]\n"
     ]
    }
   ],
   "source": [
    "evol_manager = EvolManager(5, 50, 10)\n",
    "for c in evol_manager.get_chrom_array():\n",
    "    print(c.get_positions())"
   ]
  },
  {
   "cell_type": "code",
   "execution_count": 8,
   "metadata": {},
   "outputs": [
    {
     "name": "stdout",
     "output_type": "stream",
     "text": [
      "[2 4 1 3 0]\n",
      "[0 2 4 1 3]\n",
      "[2 0 3 1 4]\n",
      "[1 4 2 0 3]\n"
     ]
    }
   ],
   "source": [
    "for c in evol_manager.get_solutions():\n",
    "    print(c.get_positions())"
   ]
  },
  {
   "cell_type": "code",
   "execution_count": 9,
   "metadata": {},
   "outputs": [],
   "source": [
    "s0 = Chromosome([2, 0, 3, 1, 4])\n",
    "s1 = Chromosome([0, 2, 4, 1, 3])\n",
    "s2 = Chromosome([1, 3, 0, 2, 4])\n",
    "s3 = Chromosome([1, 4, 2, 0, 3])\n",
    "s4 = Chromosome([2, 4, 1, 3, 0])\n",
    "s5 = Chromosome([0, 3, 1, 4, 2])"
   ]
  },
  {
   "cell_type": "code",
   "execution_count": 10,
   "metadata": {},
   "outputs": [
    {
     "name": "stdout",
     "output_type": "stream",
     "text": [
      "[[ 0 15  0  0  0]\n",
      " [ 0  0  0 15  0]\n",
      " [15  0  0  0  0]\n",
      " [ 0  0 15  0  0]\n",
      " [ 0  0  0  0 15]]\n"
     ]
    }
   ],
   "source": [
    "s0.print_board()"
   ]
  },
  {
   "cell_type": "code",
   "execution_count": 11,
   "metadata": {},
   "outputs": [
    {
     "name": "stdout",
     "output_type": "stream",
     "text": [
      "[[15  0  0  0  0]\n",
      " [ 0  0  0 15  0]\n",
      " [ 0 15  0  0  0]\n",
      " [ 0  0  0  0 15]\n",
      " [ 0  0 15  0  0]]\n"
     ]
    }
   ],
   "source": [
    "s1.print_board()"
   ]
  },
  {
   "cell_type": "code",
   "execution_count": 12,
   "metadata": {},
   "outputs": [
    {
     "name": "stdout",
     "output_type": "stream",
     "text": [
      "[[ 0  0 15  0  0]\n",
      " [15  0  0  0  0]\n",
      " [ 0  0  0 15  0]\n",
      " [ 0 15  0  0  0]\n",
      " [ 0  0  0  0 15]]\n"
     ]
    }
   ],
   "source": [
    "s2.print_board()"
   ]
  },
  {
   "cell_type": "code",
   "execution_count": 13,
   "metadata": {},
   "outputs": [
    {
     "name": "stdout",
     "output_type": "stream",
     "text": [
      "[[ 0  0  0 15  0]\n",
      " [15  0  0  0  0]\n",
      " [ 0  0 15  0  0]\n",
      " [ 0  0  0  0 15]\n",
      " [ 0 15  0  0  0]]\n"
     ]
    }
   ],
   "source": [
    "s3.print_board()"
   ]
  },
  {
   "cell_type": "code",
   "execution_count": 14,
   "metadata": {},
   "outputs": [
    {
     "name": "stdout",
     "output_type": "stream",
     "text": [
      "[[ 0  0  0  0 15]\n",
      " [ 0  0 15  0  0]\n",
      " [15  0  0  0  0]\n",
      " [ 0  0  0 15  0]\n",
      " [ 0 15  0  0  0]]\n"
     ]
    }
   ],
   "source": [
    "s4.print_board()"
   ]
  },
  {
   "cell_type": "code",
   "execution_count": 15,
   "metadata": {},
   "outputs": [
    {
     "name": "stdout",
     "output_type": "stream",
     "text": [
      "[[15  0  0  0  0]\n",
      " [ 0  0 15  0  0]\n",
      " [ 0  0  0  0 15]\n",
      " [ 0 15  0  0  0]\n",
      " [ 0  0  0 15  0]]\n"
     ]
    }
   ],
   "source": [
    "s5.print_board()"
   ]
  },
  {
   "attachments": {},
   "cell_type": "markdown",
   "metadata": {},
   "source": [
    "## get_solution_times()"
   ]
  },
  {
   "cell_type": "code",
   "execution_count": 16,
   "metadata": {},
   "outputs": [
    {
     "name": "stdout",
     "output_type": "stream",
     "text": [
      "SOLUTION FOUND: [0 3 1 4 2] SOLUTION FOUND: [2 4 1 3 0] SOLUTION FOUND: [0 2 4 1 3] SOLUTION FOUND: [1 4 2 0 3] SOLUTION FOUND: [2 0 3 1 4] SOLUTION FOUND: [1 4 2 0 3] SOLUTION FOUND: [1 4 2 0 3] It's populated over here!\n"
     ]
    }
   ],
   "source": [
    "evol_manager = EvolManager(5, 50, 10)\n",
    "# for c in evol_manager.get_chrom_array():\n",
    "#     print(c.get_positions())"
   ]
  },
  {
   "cell_type": "code",
   "execution_count": 17,
   "metadata": {},
   "outputs": [
    {
     "data": {
      "text/plain": [
       "array([0., 0., 0., 0., 0.])"
      ]
     },
     "execution_count": 17,
     "metadata": {},
     "output_type": "execute_result"
    }
   ],
   "source": [
    "evol_manager.get_solution_times()"
   ]
  },
  {
   "cell_type": "code",
   "execution_count": 18,
   "metadata": {},
   "outputs": [
    {
     "data": {
      "text/plain": [
       "array([0, 0, 0, 0, 0])"
      ]
     },
     "execution_count": 18,
     "metadata": {},
     "output_type": "execute_result"
    }
   ],
   "source": [
    "evol_manager.get_sol_generations()"
   ]
  },
  {
   "attachments": {},
   "cell_type": "markdown",
   "metadata": {},
   "source": [
    "## get_best_chrom_fitness(),  \n",
    "## get_best_chrom_mutual_threats()"
   ]
  },
  {
   "cell_type": "code",
   "execution_count": 19,
   "metadata": {},
   "outputs": [
    {
     "name": "stdout",
     "output_type": "stream",
     "text": [
      "SOLUTION FOUND: [1 3 0 2 4] SOLUTION FOUND: [2 0 3 1 4] SOLUTION FOUND: [2 0 3 1 4] It's populated over here!\n"
     ]
    }
   ],
   "source": [
    "evol_manager = EvolManager(5, 50, 10)\n",
    "# for c in evol_manager.get_chrom_array():\n",
    "#     print(c.get_positions())"
   ]
  },
  {
   "cell_type": "code",
   "execution_count": 20,
   "metadata": {},
   "outputs": [
    {
     "name": "stdout",
     "output_type": "stream",
     "text": [
      "SOLUTION FOUND: [1 3 0 2 4] SOLUTION FOUND: [2 0 3 1 4] SOLUTION FOUND: [2 0 3 1 4] SOLUTION FOUND: [1 3 0 2 4] "
     ]
    },
    {
     "data": {
      "text/plain": [
       "1.0"
      ]
     },
     "execution_count": 20,
     "metadata": {},
     "output_type": "execute_result"
    }
   ],
   "source": [
    "evol_manager.get_best_chrom_fitness()"
   ]
  },
  {
   "cell_type": "code",
   "execution_count": 21,
   "metadata": {},
   "outputs": [
    {
     "name": "stdout",
     "output_type": "stream",
     "text": [
      "SOLUTION FOUND: [1 3 0 2 4] SOLUTION FOUND: [2 0 3 1 4] SOLUTION FOUND: [2 0 3 1 4] "
     ]
    },
    {
     "data": {
      "text/plain": [
       "0"
      ]
     },
     "execution_count": 21,
     "metadata": {},
     "output_type": "execute_result"
    }
   ],
   "source": [
    "evol_manager.get_best_chrom_mutual_threats()"
   ]
  },
  {
   "attachments": {},
   "cell_type": "markdown",
   "metadata": {},
   "source": [
    "## get_reproductive_pool()"
   ]
  },
  {
   "cell_type": "code",
   "execution_count": null,
   "metadata": {},
   "outputs": [],
   "source": []
  },
  {
   "attachments": {},
   "cell_type": "markdown",
   "metadata": {},
   "source": [
    "## get_offspring()"
   ]
  },
  {
   "cell_type": "code",
   "execution_count": null,
   "metadata": {},
   "outputs": [],
   "source": []
  },
  {
   "attachments": {},
   "cell_type": "markdown",
   "metadata": {},
   "source": [
    "## set_chrom_array()"
   ]
  },
  {
   "cell_type": "code",
   "execution_count": 22,
   "metadata": {},
   "outputs": [
    {
     "name": "stdout",
     "output_type": "stream",
     "text": [
      "It's populated over here!\n",
      "__chrom_array members: \n",
      "[2 4 3 1 0] fitness: 0.8\n",
      "[2 0 1 3 4] fitness: 0.8\n",
      "[1 0 4 2 3] fitness: 0.6\n",
      "[0 3 4 2 1] fitness: 0.8\n",
      "[1 3 4 0 2] fitness: 0.8\n"
     ]
    }
   ],
   "source": [
    "evol_manager = EvolManager(5, 5, 10)\n",
    "\n",
    "evol_manager.show_chromosomes_positions()\n"
   ]
  },
  {
   "cell_type": "code",
   "execution_count": 23,
   "metadata": {},
   "outputs": [
    {
     "name": "stdout",
     "output_type": "stream",
     "text": [
      "__chrom_array members: \n",
      "[2 0 3 1 4] SOLUTION FOUND: [2 0 3 1 4] fitness: 1.0\n",
      "[0 2 4 1 3] SOLUTION FOUND: [0 2 4 1 3] fitness: 1.0\n",
      "[1 3 0 2 4] SOLUTION FOUND: [1 3 0 2 4] fitness: 1.0\n",
      "[1 4 2 0 3] SOLUTION FOUND: [1 4 2 0 3] fitness: 1.0\n",
      "[2 4 1 3 0] SOLUTION FOUND: [2 4 1 3 0] fitness: 1.0\n"
     ]
    }
   ],
   "source": [
    "vectors_array = np.array([\n",
    "    np.array([2, 0, 3, 1, 4]),\n",
    "    np.array([0, 2, 4, 1, 3]),\n",
    "    np.array([1, 3, 0, 2, 4]),\n",
    "    np.array([1, 4, 2, 0, 3]),\n",
    "    np.array([2, 4, 1, 3, 0]),\n",
    "    ])\n",
    "\n",
    "evol_manager.set_chrom_array(vectors_array)\n",
    "evol_manager.show_chromosomes_positions()"
   ]
  },
  {
   "attachments": {},
   "cell_type": "markdown",
   "metadata": {},
   "source": [
    "## show_chromosomes_positions()"
   ]
  },
  {
   "cell_type": "code",
   "execution_count": 24,
   "metadata": {},
   "outputs": [
    {
     "name": "stdout",
     "output_type": "stream",
     "text": [
      "It's populated over here!\n"
     ]
    }
   ],
   "source": [
    "evol_manager = EvolManager(5, 5, 10)"
   ]
  },
  {
   "cell_type": "code",
   "execution_count": 25,
   "metadata": {},
   "outputs": [
    {
     "name": "stdout",
     "output_type": "stream",
     "text": [
      "__chrom_array members: \n",
      "[2 4 3 1 0] fitness: 0.8\n",
      "[0 4 2 3 1] fitness: 0.6\n",
      "[0 4 1 2 3] fitness: 0.6\n",
      "[1 3 2 0 4] fitness: 0.8\n",
      "[0 2 4 3 1] fitness: 0.8\n"
     ]
    }
   ],
   "source": [
    "evol_manager.show_chromosomes_positions()"
   ]
  },
  {
   "attachments": {},
   "cell_type": "markdown",
   "metadata": {},
   "source": [
    "## show_solutions()"
   ]
  },
  {
   "cell_type": "code",
   "execution_count": 26,
   "metadata": {},
   "outputs": [
    {
     "name": "stdout",
     "output_type": "stream",
     "text": [
      "SOLUTION FOUND: [1 3 0 2 4] SOLUTION FOUND: [1 4 2 0 3] SOLUTION FOUND: [1 3 0 2 4] It's populated over here!\n"
     ]
    }
   ],
   "source": [
    "evol_manager = EvolManager(5, 50, 10)"
   ]
  },
  {
   "cell_type": "code",
   "execution_count": 27,
   "metadata": {},
   "outputs": [
    {
     "name": "stdout",
     "output_type": "stream",
     "text": [
      "Solutions: \n",
      "solution [0]: [1 3 0 2 4].                     Generation: 0\n",
      "solution [1]: [1 4 2 0 3].                     Generation: 0\n"
     ]
    }
   ],
   "source": [
    "evol_manager.show_solutions()"
   ]
  },
  {
   "cell_type": "code",
   "execution_count": 28,
   "metadata": {},
   "outputs": [
    {
     "name": "stdout",
     "output_type": "stream",
     "text": [
      "__chrom_array members: \n",
      "[1 0 4 3 2] fitness: 0.6\n",
      "[0 4 2 3 1] fitness: 0.6\n",
      "[2 4 3 0 1] fitness: 0.6\n",
      "[2 0 3 4 1] fitness: 0.8\n",
      "[1 4 3 2 0] fitness: 0.6\n",
      "[0 3 1 2 4] fitness: 0.8\n",
      "[1 3 0 2 4] SOLUTION FOUND: [1 3 0 2 4] fitness: 1.0\n",
      "[0 2 4 3 1] fitness: 0.8\n",
      "[0 4 1 2 3] fitness: 0.6\n",
      "[2 1 0 3 4] fitness: 0.4\n",
      "[1 4 2 0 3] SOLUTION FOUND: [1 4 2 0 3] fitness: 1.0\n",
      "[2 3 0 4 1] fitness: 0.8\n",
      "[1 4 3 2 0] fitness: 0.6\n",
      "[1 3 2 4 0] fitness: 0.6\n",
      "[2 0 4 3 1] fitness: 0.8\n",
      "[1 4 2 3 0] fitness: 0.8\n",
      "[0 1 3 2 4] fitness: 0.6\n",
      "[2 3 1 4 0] fitness: 0.8\n",
      "[1 0 4 3 2] fitness: 0.6\n",
      "[2 3 1 4 0] fitness: 0.8\n",
      "[1 0 4 3 2] fitness: 0.6\n",
      "[0 2 3 4 1] fitness: 0.6\n",
      "[0 2 1 4 3] fitness: 0.6\n",
      "[0 4 3 2 1] fitness: 0.4\n",
      "[0 2 4 3 1] fitness: 0.8\n",
      "[1 0 2 3 4] fitness: 0.6\n",
      "[1 2 3 4 0] fitness: 0.4\n",
      "[0 4 1 3 2] fitness: 0.8\n",
      "[1 2 3 0 4] fitness: 0.6\n",
      "[1 0 3 2 4] fitness: 0.6\n",
      "[1 4 0 3 2] fitness: 0.8\n",
      "[2 1 4 0 3] fitness: 0.8\n",
      "[1 2 0 3 4] fitness: 0.8\n",
      "[0 4 1 2 3] fitness: 0.6\n",
      "[1 3 2 0 4] fitness: 0.8\n",
      "[2 3 4 1 0] fitness: 0.4\n",
      "[2 0 1 4 3] fitness: 0.6\n",
      "[1 2 3 0 4] fitness: 0.6\n",
      "[0 4 2 3 1] fitness: 0.6\n",
      "[1 3 2 0 4] fitness: 0.8\n",
      "[0 1 3 4 2] fitness: 0.8\n",
      "[1 3 2 0 4] fitness: 0.8\n",
      "[1 0 3 2 4] fitness: 0.6\n",
      "[2 4 3 0 1] fitness: 0.6\n",
      "[1 4 3 2 0] fitness: 0.6\n",
      "[2 0 1 4 3] fitness: 0.6\n",
      "[2 4 0 1 3] fitness: 0.8\n",
      "[2 0 3 4 1] fitness: 0.8\n",
      "[0 4 1 2 3] fitness: 0.6\n",
      "[1 3 0 2 4] SOLUTION FOUND: [1 3 0 2 4] fitness: 1.0\n"
     ]
    }
   ],
   "source": [
    "evol_manager.show_chromosomes_positions()"
   ]
  },
  {
   "attachments": {},
   "cell_type": "markdown",
   "metadata": {},
   "source": [
    "## make_reproductive_pool() & sorting by fitness"
   ]
  },
  {
   "cell_type": "code",
   "execution_count": 29,
   "metadata": {},
   "outputs": [
    {
     "name": "stdout",
     "output_type": "stream",
     "text": [
      "[0 6 3 5 2 4 7 1] fitness: 0.9285714285714286\n",
      "[3 6 0 2 5 4 7 1] fitness: 0.8928571428571429\n",
      "[2 3 6 7 4 1 0 5] fitness: 0.8571428571428571\n",
      "[3 5 4 7 6 1 0 2] fitness: 0.6785714285714286\n",
      "[0 3 4 5 6 7 2 1] fitness: 0.5357142857142857\n"
     ]
    }
   ],
   "source": [
    "chrom_list = []\n",
    "chr = Chromosome( np.arange(8) )\n",
    "\n",
    "for i in range(5):\n",
    "    chrom_list.append( Chromosome( chr.random_vec() ) )\n",
    "\n",
    "for c in chrom_list:\n",
    "    print(f\"{c.get_positions()} fitness: {c.fitness()}\")"
   ]
  },
  {
   "cell_type": "code",
   "execution_count": 30,
   "metadata": {},
   "outputs": [
    {
     "name": "stdout",
     "output_type": "stream",
     "text": [
      "[0 6 3 5 2 4 7 1] fitness: 0.9285714285714286\n",
      "[3 6 0 2 5 4 7 1] fitness: 0.8928571428571429\n",
      "[2 3 6 7 4 1 0 5] fitness: 0.8571428571428571\n",
      "[3 5 4 7 6 1 0 2] fitness: 0.6785714285714286\n",
      "[0 3 4 5 6 7 2 1] fitness: 0.5357142857142857\n"
     ]
    }
   ],
   "source": [
    "sorted_chrom_list = sorted(chrom_list, key=lambda crom: -crom.fitness())\n",
    "\n",
    "for c in sorted_chrom_list:\n",
    "    print(f\"{c.get_positions()} fitness: {c.fitness()}\")"
   ]
  },
  {
   "cell_type": "code",
   "execution_count": 31,
   "metadata": {},
   "outputs": [
    {
     "name": "stdout",
     "output_type": "stream",
     "text": [
      "[0 6 3 5 2 4 7 1]\n",
      "[3 6 0 2 5 4 7 1]\n",
      "[2 3 6 7 4 1 0 5]\n",
      "[3 5 4 7 6 1 0 2]\n",
      "[0 3 4 5 6 7 2 1]\n"
     ]
    }
   ],
   "source": [
    "for i in chrom_list:\n",
    "    print(i.get_positions())"
   ]
  },
  {
   "attachments": {},
   "cell_type": "markdown",
   "metadata": {},
   "source": [
    "# Executions"
   ]
  },
  {
   "attachments": {},
   "cell_type": "markdown",
   "metadata": {},
   "source": [
    "def __init__(  \n",
    "> self,  \n",
    "        genes_per_chrom,  \n",
    "        pop,  \n",
    "        generations,  \n",
    "        reproductive_pool_size = None,  \n",
    "        offspring = None,  \n",
    "        mutation_rate = 0.2,  \n",
    "        reproductive_coefficient = 1 / 3,\n",
    "        ):"
   ]
  },
  {
   "attachments": {},
   "cell_type": "markdown",
   "metadata": {},
   "source": [
    "## ex 1:\n"
   ]
  },
  {
   "cell_type": "code",
   "execution_count": 32,
   "metadata": {},
   "outputs": [
    {
     "name": "stdout",
     "output_type": "stream",
     "text": [
      "It's populated over here!\n",
      "SOLUTION FOUND: [2 5 7 0 4 6 1 3] It's populated over here!\n",
      "Current generation: 0\n",
      "SOLUTION FOUND: [2 5 7 0 4 6 1 3] SOLUTION FOUND: [2 5 7 0 4 6 1 3] SOLUTION FOUND: [2 5 7 0 4 6 1 3] self.__offspring_size: 70\n",
      "Current generation: 1\n",
      "self.__offspring_size: 70\n",
      "Current generation: 2\n",
      "self.__offspring_size: 70\n",
      "SOLUTION FOUND: [3 1 6 4 0 7 5 2] Current generation: 3\n",
      "SOLUTION FOUND: [3 1 6 4 0 7 5 2] SOLUTION FOUND: [3 1 6 4 0 7 5 2] SOLUTION FOUND: [3 1 6 4 0 7 5 2] Time for new solution: 0.06144719800067833\n",
      "SOLUTION FOUND: [3 1 6 4 0 7 5 2] SOLUTION FOUND: [3 1 6 4 0 7 5 2] self.__offspring_size: 70\n",
      "Current generation: 4\n",
      "self.__offspring_size: 70\n",
      "SOLUTION FOUND: [3 1 6 2 5 7 4 0] Current generation: 5\n",
      "SOLUTION FOUND: [3 1 6 2 5 7 4 0] SOLUTION FOUND: [3 1 6 2 5 7 4 0] SOLUTION FOUND: [3 1 6 2 5 7 4 0] Time for new solution: 0.08665592900069896\n",
      "SOLUTION FOUND: [3 1 6 2 5 7 4 0] SOLUTION FOUND: [3 1 6 2 5 7 4 0] self.__offspring_size: 70\n",
      "Current generation: 6\n",
      "self.__offspring_size: 70\n",
      "SOLUTION FOUND: [3 1 6 4 0 7 5 2] Current generation: 7\n",
      "SOLUTION FOUND: [3 1 6 4 0 7 5 2] SOLUTION FOUND: [3 1 6 4 0 7 5 2] SOLUTION FOUND: [3 1 6 4 0 7 5 2] self.__offspring_size: 70\n",
      "SOLUTION FOUND: [1 4 6 0 2 7 5 3] Current generation: 8\n",
      "SOLUTION FOUND: [1 4 6 0 2 7 5 3] SOLUTION FOUND: [1 4 6 0 2 7 5 3] SOLUTION FOUND: [1 4 6 0 2 7 5 3] Time for new solution: 0.13140651299909223\n",
      "SOLUTION FOUND: [1 4 6 0 2 7 5 3] SOLUTION FOUND: [1 4 6 0 2 7 5 3] self.__offspring_size: 70\n",
      "Current generation: 9\n",
      "self.__offspring_size: 70\n",
      "SOLUTION FOUND: [3 1 6 4 0 7 5 2] SOLUTION FOUND: [3 1 6 2 5 7 4 0] Current generation: 10\n",
      "SOLUTION FOUND: [3 1 6 4 0 7 5 2] SOLUTION FOUND: [3 1 6 2 5 7 4 0] SOLUTION FOUND: [3 1 6 4 0 7 5 2] SOLUTION FOUND: [3 1 6 4 0 7 5 2] SOLUTION FOUND: [3 1 6 2 5 7 4 0] SOLUTION FOUND: [3 1 6 2 5 7 4 0] self.__offspring_size: 70\n",
      "SOLUTION FOUND: [3 1 6 2 5 7 4 0] Current generation: 11\n",
      "SOLUTION FOUND: [3 1 6 2 5 7 4 0] SOLUTION FOUND: [3 1 6 2 5 7 4 0] SOLUTION FOUND: [3 1 6 2 5 7 4 0] self.__offspring_size: 70\n",
      "SOLUTION FOUND: [2 5 1 4 7 0 6 3] Current generation: 12\n",
      "SOLUTION FOUND: [2 5 1 4 7 0 6 3] SOLUTION FOUND: [2 5 1 4 7 0 6 3] SOLUTION FOUND: [2 5 1 4 7 0 6 3] Time for new solution: 0.20116512299864553\n",
      "SOLUTION FOUND: [2 5 1 4 7 0 6 3] SOLUTION FOUND: [2 5 1 4 7 0 6 3] self.__offspring_size: 70\n",
      "Current generation: 13\n",
      "self.__offspring_size: 70\n",
      "Current generation: 14\n",
      "self.__offspring_size: 70\n",
      "SOLUTION FOUND: [1 4 6 0 2 7 5 3] Current generation: 15\n",
      "SOLUTION FOUND: [1 4 6 0 2 7 5 3] SOLUTION FOUND: [1 4 6 0 2 7 5 3] SOLUTION FOUND: [1 4 6 0 2 7 5 3] self.__offspring_size: 70\n",
      "Current generation: 16\n",
      "self.__offspring_size: 70\n",
      "SOLUTION FOUND: [1 4 6 0 2 7 5 3] Current generation: 17\n",
      "SOLUTION FOUND: [1 4 6 0 2 7 5 3] SOLUTION FOUND: [1 4 6 0 2 7 5 3] SOLUTION FOUND: [1 4 6 0 2 7 5 3] self.__offspring_size: 70\n",
      "Current generation: 18\n",
      "self.__offspring_size: 70\n",
      "Current generation: 19\n",
      "self.__offspring_size: 70\n",
      "Current generation: 20\n",
      "self.__offspring_size: 70\n",
      "SOLUTION FOUND: [0 6 4 7 1 3 5 2] Current generation: 21\n",
      "SOLUTION FOUND: [0 6 4 7 1 3 5 2] SOLUTION FOUND: [0 6 4 7 1 3 5 2] SOLUTION FOUND: [0 6 4 7 1 3 5 2] Time for new solution: 0.3248130220017629\n",
      "SOLUTION FOUND: [0 6 4 7 1 3 5 2] SOLUTION FOUND: [0 6 4 7 1 3 5 2] self.__offspring_size: 70\n",
      "Current generation: 22\n",
      "self.__offspring_size: 70\n",
      "SOLUTION FOUND: [3 6 2 7 1 4 0 5] Current generation: 23\n",
      "SOLUTION FOUND: [3 6 2 7 1 4 0 5] SOLUTION FOUND: [3 6 2 7 1 4 0 5] SOLUTION FOUND: [3 6 2 7 1 4 0 5] Time for new solution: 0.35321336000197334\n",
      "SOLUTION FOUND: [3 6 2 7 1 4 0 5] SOLUTION FOUND: [3 6 2 7 1 4 0 5] self.__offspring_size: 70\n",
      "Current generation: 24\n",
      "self.__offspring_size: 70\n",
      "Current generation: 25\n",
      "self.__offspring_size: 70\n",
      "Current generation: 26\n",
      "self.__offspring_size: 70\n",
      "SOLUTION FOUND: [1 4 6 0 2 7 5 3] Current generation: 27\n",
      "SOLUTION FOUND: [1 4 6 0 2 7 5 3] SOLUTION FOUND: [1 4 6 0 2 7 5 3] SOLUTION FOUND: [1 4 6 0 2 7 5 3] self.__offspring_size: 70\n",
      "SOLUTION FOUND: [3 6 2 7 1 4 0 5] Current generation: 28\n",
      "SOLUTION FOUND: [3 6 2 7 1 4 0 5] SOLUTION FOUND: [3 6 2 7 1 4 0 5] SOLUTION FOUND: [3 6 2 7 1 4 0 5] self.__offspring_size: 70\n",
      "SOLUTION FOUND: [1 4 6 0 2 7 5 3] Current generation: 29\n",
      "SOLUTION FOUND: [1 4 6 0 2 7 5 3] SOLUTION FOUND: [1 4 6 0 2 7 5 3] SOLUTION FOUND: [1 4 6 0 2 7 5 3] self.__offspring_size: 70\n",
      "Current generation: 30\n",
      "self.__offspring_size: 70\n",
      "SOLUTION FOUND: [0 6 4 7 1 3 5 2] SOLUTION FOUND: [1 4 6 0 2 7 5 3] Current generation: 31\n",
      "SOLUTION FOUND: [0 6 4 7 1 3 5 2] SOLUTION FOUND: [1 4 6 0 2 7 5 3] SOLUTION FOUND: [0 6 4 7 1 3 5 2] SOLUTION FOUND: [0 6 4 7 1 3 5 2] SOLUTION FOUND: [1 4 6 0 2 7 5 3] SOLUTION FOUND: [1 4 6 0 2 7 5 3] self.__offspring_size: 70\n",
      "SOLUTION FOUND: [1 4 6 0 2 7 5 3] SOLUTION FOUND: [1 4 6 0 2 7 5 3] Current generation: 32\n",
      "SOLUTION FOUND: [1 4 6 0 2 7 5 3] SOLUTION FOUND: [1 4 6 0 2 7 5 3] SOLUTION FOUND: [1 4 6 0 2 7 5 3] SOLUTION FOUND: [1 4 6 0 2 7 5 3] SOLUTION FOUND: [1 4 6 0 2 7 5 3] SOLUTION FOUND: [1 4 6 0 2 7 5 3] self.__offspring_size: 70\n",
      "Current generation: 33\n",
      "self.__offspring_size: 70\n",
      "Current generation: 34\n",
      "self.__offspring_size: 70\n",
      "Current generation: 35\n",
      "self.__offspring_size: 70\n",
      "Current generation: 36\n",
      "self.__offspring_size: 70\n",
      "Current generation: 37\n",
      "self.__offspring_size: 70\n",
      "SOLUTION FOUND: [1 4 6 0 2 7 5 3] SOLUTION FOUND: [0 6 4 7 1 3 5 2] Current generation: 38\n",
      "SOLUTION FOUND: [1 4 6 0 2 7 5 3] SOLUTION FOUND: [0 6 4 7 1 3 5 2] SOLUTION FOUND: [1 4 6 0 2 7 5 3] SOLUTION FOUND: [1 4 6 0 2 7 5 3] SOLUTION FOUND: [0 6 4 7 1 3 5 2] SOLUTION FOUND: [0 6 4 7 1 3 5 2] self.__offspring_size: 70\n",
      "Current generation: 39\n",
      "self.__offspring_size: 70\n",
      "Current generation: 40\n",
      "self.__offspring_size: 70\n",
      "SOLUTION FOUND: [0 6 4 7 1 3 5 2] Current generation: 41\n",
      "SOLUTION FOUND: [0 6 4 7 1 3 5 2] SOLUTION FOUND: [0 6 4 7 1 3 5 2] SOLUTION FOUND: [0 6 4 7 1 3 5 2] self.__offspring_size: 70\n",
      "Current generation: 42\n",
      "self.__offspring_size: 70\n",
      "Current generation: 43\n",
      "self.__offspring_size: 70\n",
      "Current generation: 44\n",
      "self.__offspring_size: 70\n",
      "SOLUTION FOUND: [2 5 7 0 4 6 1 3] Current generation: 45\n",
      "SOLUTION FOUND: [2 5 7 0 4 6 1 3] SOLUTION FOUND: [2 5 7 0 4 6 1 3] SOLUTION FOUND: [2 5 7 0 4 6 1 3] self.__offspring_size: 70\n",
      "SOLUTION FOUND: [1 4 6 0 2 7 5 3] Current generation: 46\n",
      "SOLUTION FOUND: [1 4 6 0 2 7 5 3] SOLUTION FOUND: [1 4 6 0 2 7 5 3] SOLUTION FOUND: [1 4 6 0 2 7 5 3] self.__offspring_size: 70\n",
      "Current generation: 47\n",
      "self.__offspring_size: 70\n",
      "SOLUTION FOUND: [3 1 6 4 0 7 5 2] Current generation: 48\n",
      "SOLUTION FOUND: [3 1 6 4 0 7 5 2] SOLUTION FOUND: [3 1 6 4 0 7 5 2] SOLUTION FOUND: [3 1 6 4 0 7 5 2] self.__offspring_size: 70\n",
      "SOLUTION FOUND: [2 5 7 0 4 6 1 3] Current generation: 49\n",
      "SOLUTION FOUND: [2 5 7 0 4 6 1 3] SOLUTION FOUND: [2 5 7 0 4 6 1 3] SOLUTION FOUND: [2 5 7 0 4 6 1 3] self.__offspring_size: 70\n",
      "SOLUTION FOUND: [0 6 4 7 1 3 5 2] Current generation: 50\n",
      "SOLUTION FOUND: [0 6 4 7 1 3 5 2] SOLUTION FOUND: [0 6 4 7 1 3 5 2] SOLUTION FOUND: [0 6 4 7 1 3 5 2] self.__offspring_size: 70\n",
      "SOLUTION FOUND: [1 4 6 3 0 7 5 2] SOLUTION FOUND: [3 5 7 2 0 6 4 1] Current generation: 51\n",
      "SOLUTION FOUND: [1 4 6 3 0 7 5 2] SOLUTION FOUND: [3 5 7 2 0 6 4 1] SOLUTION FOUND: [1 4 6 3 0 7 5 2] SOLUTION FOUND: [1 4 6 3 0 7 5 2] Time for new solution: 0.7514390290016308\n",
      "SOLUTION FOUND: [3 5 7 2 0 6 4 1] SOLUTION FOUND: [3 5 7 2 0 6 4 1] Time for new solution: 0.7516026689991122\n",
      "SOLUTION FOUND: [1 4 6 3 0 7 5 2] SOLUTION FOUND: [1 4 6 3 0 7 5 2] SOLUTION FOUND: [3 5 7 2 0 6 4 1] SOLUTION FOUND: [3 5 7 2 0 6 4 1] self.__offspring_size: 70\n",
      "Current generation: 52\n",
      "self.__offspring_size: 70\n",
      "Current generation: 53\n",
      "self.__offspring_size: 70\n",
      "SOLUTION FOUND: [1 4 6 3 0 7 5 2] Current generation: 54\n",
      "SOLUTION FOUND: [1 4 6 3 0 7 5 2] SOLUTION FOUND: [1 4 6 3 0 7 5 2] SOLUTION FOUND: [1 4 6 3 0 7 5 2] self.__offspring_size: 70\n",
      "Current generation: 55\n",
      "self.__offspring_size: 70\n",
      "SOLUTION FOUND: [1 4 6 3 0 7 5 2] Current generation: 56\n",
      "SOLUTION FOUND: [1 4 6 3 0 7 5 2] SOLUTION FOUND: [1 4 6 3 0 7 5 2] SOLUTION FOUND: [1 4 6 3 0 7 5 2] self.__offspring_size: 70\n",
      "Current generation: 57\n",
      "self.__offspring_size: 70\n",
      "Current generation: 58\n",
      "self.__offspring_size: 70\n",
      "SOLUTION FOUND: [3 1 6 4 0 7 5 2] Current generation: 59\n",
      "SOLUTION FOUND: [3 1 6 4 0 7 5 2] SOLUTION FOUND: [3 1 6 4 0 7 5 2] SOLUTION FOUND: [3 1 6 4 0 7 5 2] self.__offspring_size: 70\n",
      "Current generation: 60\n",
      "self.__offspring_size: 70\n",
      "SOLUTION FOUND: [1 4 6 0 2 7 5 3] Current generation: 61\n",
      "SOLUTION FOUND: [1 4 6 0 2 7 5 3] SOLUTION FOUND: [1 4 6 0 2 7 5 3] SOLUTION FOUND: [1 4 6 0 2 7 5 3] self.__offspring_size: 70\n",
      "SOLUTION FOUND: [2 5 7 0 4 6 1 3] SOLUTION FOUND: [0 6 4 7 1 3 5 2] Current generation: 62\n",
      "SOLUTION FOUND: [2 5 7 0 4 6 1 3] SOLUTION FOUND: [0 6 4 7 1 3 5 2] SOLUTION FOUND: [2 5 7 0 4 6 1 3] SOLUTION FOUND: [2 5 7 0 4 6 1 3] SOLUTION FOUND: [0 6 4 7 1 3 5 2] SOLUTION FOUND: [0 6 4 7 1 3 5 2] self.__offspring_size: 70\n",
      "SOLUTION FOUND: [1 4 6 0 2 7 5 3] Current generation: 63\n",
      "SOLUTION FOUND: [1 4 6 0 2 7 5 3] SOLUTION FOUND: [1 4 6 0 2 7 5 3] SOLUTION FOUND: [1 4 6 0 2 7 5 3] self.__offspring_size: 70\n",
      "SOLUTION FOUND: [2 5 7 0 4 6 1 3] Current generation: 64\n",
      "SOLUTION FOUND: [2 5 7 0 4 6 1 3] SOLUTION FOUND: [2 5 7 0 4 6 1 3] SOLUTION FOUND: [2 5 7 0 4 6 1 3] self.__offspring_size: 70\n",
      "SOLUTION FOUND: [1 4 6 0 2 7 5 3] SOLUTION FOUND: [3 1 7 4 6 0 2 5] SOLUTION FOUND: [1 4 6 0 2 7 5 3] Current generation: 65\n",
      "SOLUTION FOUND: [1 4 6 0 2 7 5 3] SOLUTION FOUND: [3 1 7 4 6 0 2 5] SOLUTION FOUND: [1 4 6 0 2 7 5 3] SOLUTION FOUND: [1 4 6 0 2 7 5 3] SOLUTION FOUND: [1 4 6 0 2 7 5 3] SOLUTION FOUND: [3 1 7 4 6 0 2 5] SOLUTION FOUND: [3 1 7 4 6 0 2 5] Time for new solution: 0.9578887700045016\n",
      "SOLUTION FOUND: [1 4 6 0 2 7 5 3] SOLUTION FOUND: [1 4 6 0 2 7 5 3] SOLUTION FOUND: [3 1 7 4 6 0 2 5] SOLUTION FOUND: [3 1 7 4 6 0 2 5] self.__offspring_size: 70\n",
      "SOLUTION FOUND: [3 1 7 4 6 0 2 5] Current generation: 66\n",
      "SOLUTION FOUND: [3 1 7 4 6 0 2 5] SOLUTION FOUND: [3 1 7 4 6 0 2 5] SOLUTION FOUND: [3 1 7 4 6 0 2 5] self.__offspring_size: 70\n",
      "SOLUTION FOUND: [3 1 6 4 0 7 5 2] Current generation: 67\n",
      "SOLUTION FOUND: [3 1 6 4 0 7 5 2] SOLUTION FOUND: [3 1 6 4 0 7 5 2] SOLUTION FOUND: [3 1 6 4 0 7 5 2] self.__offspring_size: 70\n",
      "SOLUTION FOUND: [2 5 7 0 4 6 1 3] Current generation: 68\n",
      "SOLUTION FOUND: [2 5 7 0 4 6 1 3] SOLUTION FOUND: [2 5 7 0 4 6 1 3] SOLUTION FOUND: [2 5 7 0 4 6 1 3] self.__offspring_size: 70\n",
      "Current generation: 69\n",
      "self.__offspring_size: 70\n",
      "Current generation: 70\n",
      "self.__offspring_size: 70\n",
      "SOLUTION FOUND: [0 6 4 7 1 3 5 2] Current generation: 71\n",
      "SOLUTION FOUND: [0 6 4 7 1 3 5 2] SOLUTION FOUND: [0 6 4 7 1 3 5 2] SOLUTION FOUND: [0 6 4 7 1 3 5 2] self.__offspring_size: 70\n",
      "Current generation: 72\n",
      "self.__offspring_size: 70\n",
      "Current generation: 73\n",
      "self.__offspring_size: 70\n",
      "SOLUTION FOUND: [3 5 7 2 0 6 4 1] Current generation: 74\n",
      "SOLUTION FOUND: [3 5 7 2 0 6 4 1] SOLUTION FOUND: [3 5 7 2 0 6 4 1] SOLUTION FOUND: [3 5 7 2 0 6 4 1] self.__offspring_size: 70\n",
      "SOLUTION FOUND: [1 4 6 0 2 7 5 3] Current generation: 75\n",
      "SOLUTION FOUND: [1 4 6 0 2 7 5 3] SOLUTION FOUND: [1 4 6 0 2 7 5 3] SOLUTION FOUND: [1 4 6 0 2 7 5 3] self.__offspring_size: 70\n",
      "SOLUTION FOUND: [3 1 7 4 6 0 2 5] Current generation: 76\n",
      "SOLUTION FOUND: [3 1 7 4 6 0 2 5] SOLUTION FOUND: [3 1 7 4 6 0 2 5] SOLUTION FOUND: [3 1 7 4 6 0 2 5] self.__offspring_size: 70\n",
      "SOLUTION FOUND: [3 5 7 2 0 6 4 1] Current generation: 77\n",
      "SOLUTION FOUND: [3 5 7 2 0 6 4 1] SOLUTION FOUND: [3 5 7 2 0 6 4 1] SOLUTION FOUND: [3 5 7 2 0 6 4 1] self.__offspring_size: 70\n",
      "SOLUTION FOUND: [3 1 7 4 6 0 2 5] SOLUTION FOUND: [0 6 4 7 1 3 5 2] Current generation: 78\n",
      "SOLUTION FOUND: [3 1 7 4 6 0 2 5] SOLUTION FOUND: [0 6 4 7 1 3 5 2] SOLUTION FOUND: [3 1 7 4 6 0 2 5] SOLUTION FOUND: [3 1 7 4 6 0 2 5] SOLUTION FOUND: [0 6 4 7 1 3 5 2] SOLUTION FOUND: [0 6 4 7 1 3 5 2] self.__offspring_size: 70\n",
      "SOLUTION FOUND: [3 6 2 7 1 4 0 5] Current generation: 79\n",
      "SOLUTION FOUND: [3 6 2 7 1 4 0 5] SOLUTION FOUND: [3 6 2 7 1 4 0 5] SOLUTION FOUND: [3 6 2 7 1 4 0 5] self.__offspring_size: 70\n",
      "Current generation: 80\n",
      "self.__offspring_size: 70\n",
      "SOLUTION FOUND: [2 5 7 0 4 6 1 3] Current generation: 81\n",
      "SOLUTION FOUND: [2 5 7 0 4 6 1 3] SOLUTION FOUND: [2 5 7 0 4 6 1 3] SOLUTION FOUND: [2 5 7 0 4 6 1 3] self.__offspring_size: 70\n",
      "SOLUTION FOUND: [1 4 6 3 0 7 5 2] Current generation: 82\n",
      "SOLUTION FOUND: [1 4 6 3 0 7 5 2] SOLUTION FOUND: [1 4 6 3 0 7 5 2] SOLUTION FOUND: [1 4 6 3 0 7 5 2] self.__offspring_size: 70\n",
      "SOLUTION FOUND: [1 4 6 0 2 7 5 3] Current generation: 83\n",
      "SOLUTION FOUND: [1 4 6 0 2 7 5 3] SOLUTION FOUND: [1 4 6 0 2 7 5 3] SOLUTION FOUND: [1 4 6 0 2 7 5 3] self.__offspring_size: 70\n",
      "Current generation: 84\n",
      "self.__offspring_size: 70\n",
      "Current generation: 85\n",
      "self.__offspring_size: 70\n",
      "Current generation: 86\n",
      "self.__offspring_size: 70\n",
      "Current generation: 87\n",
      "self.__offspring_size: 70\n",
      "Current generation: 88\n",
      "self.__offspring_size: 70\n",
      "Current generation: 89\n",
      "self.__offspring_size: 70\n",
      "Current generation: 90\n",
      "self.__offspring_size: 70\n",
      "Current generation: 91\n",
      "self.__offspring_size: 70\n",
      "Current generation: 92\n",
      "self.__offspring_size: 70\n",
      "SOLUTION FOUND: [1 4 6 0 2 7 5 3] Current generation: 93\n",
      "SOLUTION FOUND: [1 4 6 0 2 7 5 3] SOLUTION FOUND: [1 4 6 0 2 7 5 3] SOLUTION FOUND: [1 4 6 0 2 7 5 3] self.__offspring_size: 70\n",
      "SOLUTION FOUND: [2 5 7 0 4 6 1 3] Current generation: 94\n",
      "SOLUTION FOUND: [2 5 7 0 4 6 1 3] SOLUTION FOUND: [2 5 7 0 4 6 1 3] SOLUTION FOUND: [2 5 7 0 4 6 1 3] self.__offspring_size: 70\n",
      "Current generation: 95\n",
      "self.__offspring_size: 70\n",
      "Current generation: 96\n",
      "self.__offspring_size: 70\n",
      "Current generation: 97\n",
      "self.__offspring_size: 70\n",
      "Current generation: 98\n",
      "self.__offspring_size: 70\n",
      "Current generation: 99\n",
      "self.__offspring_size: 70\n",
      "Current generation: 100\n",
      "Population: 100\n",
      "__chrom_array members: \n",
      "[2 7 5 3 0 6 4 1] fitness: 0.9642857142857143\n",
      "[3 1 6 4 2 7 5 0] fitness: 0.9642857142857143\n",
      "[3 6 0 5 1 4 2 7] fitness: 0.9642857142857143\n",
      "[3 5 0 2 4 6 1 7] fitness: 0.9642857142857143\n",
      "[1 4 6 0 3 7 5 2] fitness: 0.9642857142857143\n",
      "[2 7 5 3 1 6 4 0] fitness: 0.9642857142857143\n",
      "[0 4 6 1 3 7 5 2] fitness: 0.9642857142857143\n",
      "[2 7 5 3 0 6 4 1] fitness: 0.9642857142857143\n",
      "[0 3 5 7 1 4 2 6] fitness: 0.9642857142857143\n",
      "[3 0 6 4 1 7 5 2] fitness: 0.9642857142857143\n",
      "[3 1 7 4 6 2 0 5] fitness: 0.9642857142857143\n",
      "[0 2 4 7 5 3 1 6] fitness: 0.9642857142857143\n",
      "[3 0 6 1 5 7 2 4] fitness: 0.9642857142857143\n",
      "[1 7 5 3 0 6 4 2] fitness: 0.9642857142857143\n",
      "[1 7 5 3 0 2 4 6] fitness: 0.9642857142857143\n",
      "[3 1 6 5 2 0 7 4] fitness: 0.9642857142857143\n",
      "[0 6 3 1 5 7 2 4] fitness: 0.9642857142857143\n",
      "[3 6 0 7 1 4 2 5] fitness: 0.9642857142857143\n",
      "[2 7 5 3 1 0 4 6] fitness: 0.9642857142857143\n",
      "[3 0 6 2 5 1 4 7] fitness: 0.9642857142857143\n",
      "[3 1 6 5 2 0 7 4] fitness: 0.9642857142857143\n",
      "[0 7 5 3 1 6 4 2] fitness: 0.9642857142857143\n",
      "[2 7 1 3 5 0 4 6] fitness: 0.9642857142857143\n",
      "[1 2 5 3 0 7 4 6] fitness: 0.9642857142857143\n",
      "[3 5 0 2 4 6 1 7] fitness: 0.9642857142857143\n",
      "[3 6 0 1 5 7 2 4] fitness: 0.9642857142857143\n",
      "[0 4 6 1 2 7 5 3] fitness: 0.9642857142857143\n",
      "[2 7 1 3 5 6 4 0] fitness: 0.9642857142857143\n",
      "[1 7 5 3 0 6 4 2] fitness: 0.9642857142857143\n",
      "[0 4 6 1 2 7 5 3] fitness: 0.9642857142857143\n",
      "[3 0 6 4 1 5 7 2] fitness: 0.9642857142857143\n",
      "[3 5 7 2 4 6 1 0] fitness: 0.9642857142857143\n",
      "[2 7 5 3 1 6 4 0] fitness: 0.9642857142857143\n",
      "[1 7 5 3 0 6 4 2] fitness: 0.9642857142857143\n",
      "[0 5 7 2 4 6 1 3] fitness: 0.9642857142857143\n",
      "[0 2 4 7 5 3 1 6] fitness: 0.9642857142857143\n",
      "[1 5 2 0 7 4 6 3] fitness: 0.9642857142857143\n",
      "[2 7 5 3 1 6 4 0] fitness: 0.9642857142857143\n",
      "[1 6 0 3 5 7 2 4] fitness: 0.9642857142857143\n",
      "[2 7 5 3 0 6 4 1] fitness: 0.9642857142857143\n",
      "[3 6 0 2 5 7 1 4] fitness: 0.9642857142857143\n",
      "[3 5 7 2 4 6 1 0] fitness: 0.9642857142857143\n",
      "[1 4 6 0 3 5 7 2] fitness: 0.9642857142857143\n",
      "[0 2 4 7 1 3 5 6] fitness: 0.9642857142857143\n",
      "[3 6 0 1 5 7 2 4] fitness: 0.9642857142857143\n",
      "[3 5 0 2 4 7 1 6] fitness: 0.9642857142857143\n",
      "[2 5 7 3 1 6 4 0] fitness: 0.9642857142857143\n",
      "[3 5 0 2 4 6 1 7] fitness: 0.9642857142857143\n",
      "[2 3 1 7 5 0 6 4] fitness: 0.9642857142857143\n",
      "[0 4 6 1 3 5 7 2] fitness: 0.9642857142857143\n",
      "[2 7 5 3 0 6 4 1] fitness: 0.9642857142857143\n",
      "[2 7 5 3 0 6 4 1] fitness: 0.9642857142857143\n",
      "[0 2 5 3 1 7 4 6] fitness: 0.9642857142857143\n",
      "[3 6 0 1 5 7 2 4] fitness: 0.9642857142857143\n",
      "[3 5 7 2 0 6 1 4] fitness: 0.9642857142857143\n",
      "[2 5 7 3 1 6 4 0] fitness: 0.9642857142857143\n",
      "[0 2 4 7 1 3 5 6] fitness: 0.9642857142857143\n",
      "[3 6 0 7 5 1 2 4] fitness: 0.9642857142857143\n",
      "[0 6 1 3 5 7 2 4] fitness: 0.9642857142857143\n",
      "[2 7 5 3 1 6 4 0] fitness: 0.9642857142857143\n",
      "[3 6 2 1 5 7 0 4] fitness: 0.9642857142857143\n",
      "[3 6 1 7 5 0 2 4] fitness: 0.9642857142857143\n",
      "[3 0 2 7 5 1 6 4] fitness: 0.9642857142857143\n",
      "[3 5 7 4 0 2 6 1] fitness: 0.9642857142857143\n",
      "[0 6 3 7 1 4 2 5] fitness: 0.9642857142857143\n",
      "[3 5 0 2 6 7 1 4] fitness: 0.9642857142857143\n",
      "[0 1 6 4 2 7 5 3] fitness: 0.9642857142857143\n",
      "[0 6 1 3 5 7 2 4] fitness: 0.9642857142857143\n",
      "[3 5 0 2 6 7 1 4] fitness: 0.9642857142857143\n",
      "[3 6 0 7 5 1 2 4] fitness: 0.9642857142857143\n",
      "[0 4 6 1 2 7 5 3] fitness: 0.9642857142857143\n",
      "[3 1 7 5 2 0 6 4] fitness: 0.9642857142857143\n",
      "[1 7 5 3 0 2 4 6] fitness: 0.9642857142857143\n",
      "[2 7 1 3 5 0 6 4] fitness: 0.9642857142857143\n",
      "[2 4 6 1 3 5 7 0] fitness: 0.9642857142857143\n",
      "[0 3 6 4 1 7 5 2] fitness: 0.9642857142857143\n",
      "[2 7 5 3 0 6 4 1] fitness: 0.9642857142857143\n",
      "[0 4 6 5 3 1 7 2] fitness: 0.9642857142857143\n",
      "[2 0 3 7 5 1 6 4] fitness: 0.9642857142857143\n",
      "[0 1 6 4 2 7 5 3] fitness: 0.9642857142857143\n",
      "[0 6 3 7 1 4 2 5] fitness: 0.9642857142857143\n",
      "[0 5 7 2 4 6 1 3] fitness: 0.9642857142857143\n",
      "[2 0 7 3 1 6 4 5] fitness: 0.9642857142857143\n",
      "[1 7 5 3 0 6 4 2] fitness: 0.9642857142857143\n",
      "[3 5 0 2 4 7 1 6] fitness: 0.9642857142857143\n",
      "[3 0 2 7 5 1 6 4] fitness: 0.9642857142857143\n",
      "[0 2 4 7 5 3 1 6] fitness: 0.9642857142857143\n",
      "[3 0 7 5 2 6 1 4] fitness: 0.9642857142857143\n",
      "[0 6 1 3 5 7 2 4] fitness: 0.9642857142857143\n",
      "[2 7 5 3 0 6 4 1] fitness: 0.9642857142857143\n",
      "[3 5 6 2 0 7 1 4] fitness: 0.9642857142857143\n",
      "[3 0 6 2 5 7 1 4] fitness: 0.9642857142857143\n",
      "[3 5 7 2 4 6 1 0] fitness: 0.9642857142857143\n",
      "[1 5 0 2 7 4 6 3] fitness: 0.9642857142857143\n",
      "[3 0 6 1 5 7 2 4] fitness: 0.9642857142857143\n",
      "[0 2 6 4 1 7 5 3] fitness: 0.9642857142857143\n",
      "[0 7 5 3 1 6 4 2] fitness: 0.9642857142857143\n",
      "[1 6 0 3 5 7 2 4] fitness: 0.9642857142857143\n",
      "[3 5 7 2 0 6 1 4] fitness: 0.9642857142857143\n",
      "[2 7 1 3 5 0 4 6] fitness: 0.9642857142857143\n",
      "Solutions: \n",
      "solution [0]: [2 5 7 0 4 6 1 3].                     Generation: 0\n",
      "solution [1]: [3 1 6 4 0 7 5 2].                     Generation: 3\n",
      "solution [2]: [3 1 6 2 5 7 4 0].                     Generation: 5\n",
      "solution [3]: [1 4 6 0 2 7 5 3].                     Generation: 8\n",
      "solution [4]: [2 5 1 4 7 0 6 3].                     Generation: 12\n",
      "solution [5]: [0 6 4 7 1 3 5 2].                     Generation: 21\n",
      "solution [6]: [3 6 2 7 1 4 0 5].                     Generation: 23\n",
      "solution [7]: [1 4 6 3 0 7 5 2].                     Generation: 51\n",
      "solution [8]: [3 5 7 2 0 6 4 1].                     Generation: 51\n",
      "solution [9]: [3 1 7 4 6 0 2 5].                     Generation: 65\n"
     ]
    }
   ],
   "source": [
    "evol_manager = EvolManager(\n",
    "    genes_per_chrom = 8, \n",
    "    pop = 100, \n",
    "    generations = 100, \n",
    "    reproductive_pool_size = None,\n",
    "    offspring = 70)\n",
    "\n",
    "evol_manager.greedy_evolution()"
   ]
  },
  {
   "cell_type": "code",
   "execution_count": 33,
   "metadata": {},
   "outputs": [
    {
     "name": "stdout",
     "output_type": "stream",
     "text": [
      "Solutions: \n",
      "solution [0]: [2 5 7 0 4 6 1 3].                     Generation: 0\n",
      "solution [1]: [3 1 6 4 0 7 5 2].                     Generation: 3\n",
      "solution [2]: [3 1 6 2 5 7 4 0].                     Generation: 5\n",
      "solution [3]: [1 4 6 0 2 7 5 3].                     Generation: 8\n",
      "solution [4]: [2 5 1 4 7 0 6 3].                     Generation: 12\n",
      "solution [5]: [0 6 4 7 1 3 5 2].                     Generation: 21\n",
      "solution [6]: [3 6 2 7 1 4 0 5].                     Generation: 23\n",
      "solution [7]: [1 4 6 3 0 7 5 2].                     Generation: 51\n",
      "solution [8]: [3 5 7 2 0 6 4 1].                     Generation: 51\n",
      "solution [9]: [3 1 7 4 6 0 2 5].                     Generation: 65\n"
     ]
    }
   ],
   "source": [
    "evol_manager.show_solutions()"
   ]
  }
 ],
 "metadata": {
  "kernelspec": {
   "display_name": "JNotebook",
   "language": "python",
   "name": "python3"
  },
  "language_info": {
   "codemirror_mode": {
    "name": "ipython",
    "version": 3
   },
   "file_extension": ".py",
   "mimetype": "text/x-python",
   "name": "python",
   "nbconvert_exporter": "python",
   "pygments_lexer": "ipython3",
   "version": "3.11.0"
  },
  "orig_nbformat": 4,
  "vscode": {
   "interpreter": {
    "hash": "0e66c959f5d77bb1e57246f829e345acab1d0f17b55cc99097fd285b0b092c57"
   }
  }
 },
 "nbformat": 4,
 "nbformat_minor": 2
}
