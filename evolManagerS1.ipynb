{
 "cells": [
  {
   "cell_type": "code",
   "execution_count": 1,
   "metadata": {},
   "outputs": [],
   "source": [
    "import nbimporter\n",
    "import numpy as np\n",
    "import random\n",
    "import time\n",
    "import math\n",
    "\n",
    "# import chromosome as Chr"
   ]
  },
  {
   "cell_type": "code",
   "execution_count": 2,
   "metadata": {},
   "outputs": [],
   "source": [
    "from chromosome import Chromosome"
   ]
  },
  {
   "cell_type": "code",
   "execution_count": 3,
   "metadata": {},
   "outputs": [
    {
     "data": {
      "text/plain": [
       "array([0, 1, 2])"
      ]
     },
     "execution_count": 3,
     "metadata": {},
     "output_type": "execute_result"
    }
   ],
   "source": [
    "base = Chromosome(np.arange(3))\n",
    "base.get_positions()"
   ]
  },
  {
   "cell_type": "code",
   "execution_count": 96,
   "metadata": {},
   "outputs": [],
   "source": [
    "class EvolManager:\n",
    "    def __init__(\n",
    "        self,\n",
    "        genes_per_chrom,\n",
    "        pop,\n",
    "        generations,\n",
    "        reproductive_pool_size = None,\n",
    "        offspring = None,\n",
    "        mutation_rate = 0.2,\n",
    "        reproductive_coefficient = 1 / 3,\n",
    "        ):\n",
    "\n",
    "        if reproductive_pool_size is None:\n",
    "            reproductive_pool_size = math.floor(pop * 0.5)\n",
    "\n",
    "        if offspring is None:\n",
    "            offspring = reproductive_pool_size * 1.5\n",
    "\n",
    "        self.__n = genes_per_chrom\n",
    "        self.__population = pop\n",
    "        self.__generations = generations\n",
    "        self.__current_generation = 0\n",
    "        self.__chrom_array = []\n",
    "        self.__solutions = []\n",
    "        self.__sol_generations = np.array([], dtype = int)\n",
    "        self.__reproductive_pool = []\n",
    "        self.__sorted_chrom_array = []\n",
    "        self.__reproductive_pool_size = reproductive_pool_size\n",
    "        self.__offspring = []\n",
    "        self.__offspring_size = offspring\n",
    "        self.__big_arr = []\n",
    "        self.__solution_times = np.array([])\n",
    "        self.__mutation_rate = mutation_rate\n",
    "        self.__reproductive_coefficient = reproductive_coefficient\n",
    "        self.__solution_times = np.array([], dtype = float)\n",
    "\n",
    "        self.__starting_time = None\n",
    "\n",
    "        self.populate()\n",
    "\n",
    "\n",
    "    def populate(self):\n",
    "        proto_chrom = Chromosome(list(range(self.__n)))\n",
    "\n",
    "        for i in range(self.__population):\n",
    "            self.__chrom_array.append( \n",
    "                Chromosome(proto_chrom.random_vec()) )\n",
    "\n",
    "        for i in range(len(self.__chrom_array)):\n",
    "            new_sol = True\n",
    "            if self.__chrom_array[i].fitness() == 1.00:\n",
    "                for j in range(len(self.__solutions)):\n",
    "                    if np.array_equal( self.__chrom_array[i].get_positions(),\n",
    "                        self.__solutions[j].get_positions() ):\n",
    "\n",
    "                        new_sol = False\n",
    "                        break\n",
    "                if new_sol:\n",
    "                    self.__solutions.append(self.__chrom_array[i])\n",
    "                    self.__sol_generations = np.append(self.__sol_generations, \n",
    "                        self.__current_generation)\n",
    "                    self.__solution_times = np.append(self.__solution_times, 0)\n",
    "        print(\"It's populated over here!\")\n",
    "\n",
    "\n",
    "    def get_chrom_array(self):\n",
    "        return self.__chrom_array\n",
    "\n",
    "\n",
    "    def get_solutions(self):\n",
    "        return self.__solutions\n",
    "\n",
    "\n",
    "    def get_solution_times(self):\n",
    "        return self.__solution_times\n",
    "\n",
    "    \n",
    "    def get_sol_generations(self):\n",
    "        return self.__sol_generations\n",
    "\n",
    "\n",
    "    def get_best_chrom_fitness(self):\n",
    "        ordered_popul = sorted( self.__chrom_array, \n",
    "            key = lambda chrom: - chrom.fitness() )\n",
    "        return ordered_popul[0].fitness()\n",
    "\n",
    "\n",
    "    def get_best_chrom_mutual_threats(self):\n",
    "        ordered_popul = sorted( self.__chrom_array, \n",
    "            key = lambda chrom: - chrom.fitness())\n",
    "        return ordered_popul[0].mutual_threats()\n",
    "\n",
    "\n",
    "    def get_reproductive_pool(self):\n",
    "        return self.__reproductive_pool\n",
    "\n",
    "\n",
    "    def get_offspring(self):\n",
    "        return self.__offspring\n",
    "\n",
    "\n",
    "    def set_chrom_array(self, vec_array):\n",
    "       \n",
    "        self.__n = len(vec_array[0])\n",
    "        self.__population = len(vec_array)\n",
    "        self.__current_generation = 0\n",
    "        self.__chrom_array = []\n",
    "        self.__solutions = []\n",
    "        self.__sol_generations = np.array([], dtype = int)\n",
    "        self.__reproductive_pool = []\n",
    "        self.__sorted_chrom_array.clear()\n",
    "        self.__offspring.clear()\n",
    "        self.__big_arr.clear()\n",
    "        self.__solution_times = np.array([])\n",
    "\n",
    "        for i in vec_array:\n",
    "            self.__chrom_array.append( Chromosome(i) )\n",
    "\n",
    "\n",
    "    # show_chromosomes\n",
    "    def show_chromosomes_positions(self):\n",
    "        print(f\"type(self.__chrom_array[0]): { type(self.__chrom_array[0]) }\")\n",
    "        print(\"__chrom_array members: \")\n",
    "        for i in self.__chrom_array:\n",
    "            print(f\"{i.get_positions()}\", end = \" \") \n",
    "            print(f\"fitness: {i.fitness()}\")\n",
    "\n",
    "\n",
    "\n",
    "    def show_solutions(self):\n",
    "        print(\"Solutions: \")\n",
    "        for i in range(len(self.__solutions)):\n",
    "            print(f\"solution [{i}]: {self.__solutions[i].get_positions()}. \\\n",
    "                    Generation: {self.__sol_generations[i]}\")\n",
    "\n",
    "        if len(self.__solutions) > 2:\n",
    "            if ( self.__solutions[len(self.__solutions) - 1].get_positions() \n",
    "                    == self.__solutions[len(self.__solutions) \n",
    "                    - 2].get_positions() ).all():\n",
    "                print(\"last solution repeated\")\n",
    "\n",
    "\n",
    "    def make_reproductive_pool(self):\n",
    "        self.__reproductive_pool.clear()\n",
    "\n",
    "        # Sort chromosomes by fitness in descending order\n",
    "        self.__sorted_chrom_array = sorted(self.__chrom_array, key = lambda crom: -crom.fitness())\n",
    "\n",
    "        c = 0\n",
    "        while len(self.__reproductive_pool) < self.__reproductive_pool_size:\n",
    "            bool_signal = False\n",
    "            d = c % self.__population\n",
    "\n",
    "            if ( len(self.__sorted_chrom_array ) <= (self.__population / 2) ):\n",
    "                self.__sorted_chrom_array.append( Chromosome( self.__chrom_array[0].random_vec() ) )\n",
    "\n",
    "            elif self.__n <= 2 or ( c > self.__population and len(self.__reproductive_pool) == 0 ):\n",
    "                self.__reproductive_pool = self.__sorted_chrom_array[:self.__reproductive_pool_size]\n",
    "\n",
    "            # Chromosomes have a probability of entering the reproductive pool proportional to their fitness,\n",
    "            # unless a entire iteration was made without adding any chromosome to the reproductive pool.\n",
    "            # Chromosomes with fitness = 0 usually don't enter the reproductive pool.\n",
    "            elif random.random() < (self.__sorted_chrom_array[ d ].fitness * self.__reproductive_coefficient):\n",
    "                self.__reproductive_pool.append(self.__sorted_chrom_array[ d ])\n",
    "\n",
    "            # If a solution is found, it is removed from the reproductive pool and a random chromosome is added\n",
    "            # to the population.\n",
    "            if self.__sorted_chrom_array[ d ].fitness == 1.000000:\n",
    "                if len(self.__solutions) == 0:\n",
    "                    self.__solutions.append(self.__sorted_chrom_array[ d ])\n",
    "                    self.__sol_generations.append(self.__current_generation)\n",
    "                    ending = time.perf_counter()\n",
    "                    lapse = ending - self.__starting_time\n",
    "                    self.__solution_times.append(lapse)\n",
    "                    print(\"Time for first solution:\")\n",
    "                    print(lapse)\n",
    "\n",
    "                    # self.__reproductive_pool.append(self.__sorted_chrom_array[ d ].make_child())\n",
    "\n",
    "                    self.__chrom_array.append( Chromosome( self.__chrom_array[0].random_vec() ) )\n",
    "                    self.__chrom_array.remove(self.__sorted_chrom_array[ d ])\n",
    "                    self.__sorted_chrom_array.pop( d )\n",
    "                    \n",
    "                    continue\n",
    "                \n",
    "                \n",
    "                for i in range( len(self.__solutions) ):\n",
    "                    if ( self.__solutions[i].get_positions() == self.__sorted_chrom_array[ d ].get_positions().all() ):\n",
    "                        self.__chrom_array.append( Chromosome( self.__chrom_array[0].random_vec() ) )\n",
    "                        # self.__reproductive_pool.append(self.__sorted_chrom_array[ d ].make_child())\n",
    "                        self.__chrom_array.remove(self.__sorted_chrom_array[ d ])\n",
    "                        self.__sorted_chrom_array.pop( d )\n",
    "\n",
    "                        if ( self.__sorted_chrom_array[ d ] in self.__reproductive_pool ):\n",
    "                            self.__reproductive_pool.remove(self.__sorted_chrom_array[ d ])\n",
    "\n",
    "                        bool_signal = True\n",
    "\n",
    "                        break\n",
    "                \n",
    "                if bool_signal:\n",
    "                    continue\n",
    "\n",
    "                else:\n",
    "                    self.__solutions.append(self.__sorted_chrom_array[ d ])\n",
    "                    self.__sol_generations.append(self.__current_generation)\n",
    "                    ending = time.perf_counter()\n",
    "                    lapse = ending - self.__starting_time\n",
    "                    self.__solution_times.append(lapse)\n",
    "                    print(f\"Time for new solution: { lapse }\")\n",
    "\n",
    "            c += 1\n",
    "\n",
    "    \n",
    "    \n"
   ]
  },
  {
   "attachments": {},
   "cell_type": "markdown",
   "metadata": {},
   "source": [
    "# Testing"
   ]
  },
  {
   "attachments": {},
   "cell_type": "markdown",
   "metadata": {},
   "source": [
    "def __init__(  \n",
    "> self,  \n",
    "        genes_per_chrom,  \n",
    "        pop,  \n",
    "        generations,  \n",
    "        reproductive_pool_size = None,  \n",
    "        offspring = None,  \n",
    "        mutation_rate = 0.2,  \n",
    "        ):"
   ]
  },
  {
   "attachments": {},
   "cell_type": "markdown",
   "metadata": {},
   "source": [
    "## _ _ init _ _ ( ), populate(), get_chrom_array()"
   ]
  },
  {
   "cell_type": "code",
   "execution_count": 5,
   "metadata": {},
   "outputs": [
    {
     "name": "stdout",
     "output_type": "stream",
     "text": [
      "It's populated over here!\n",
      "[1 0 2 4 3]\n",
      "[2 3 0 1 4]\n",
      "[2 0 4 3 1]\n",
      "[1 4 3 0 2]\n",
      "[2 0 4 3 1]\n"
     ]
    }
   ],
   "source": [
    "evol_manager = EvolManager(5, 5, 10)\n",
    "for c in evol_manager.get_chrom_array():\n",
    "    print(c.get_positions())"
   ]
  },
  {
   "attachments": {},
   "cell_type": "markdown",
   "metadata": {},
   "source": [
    "## get_solutions()"
   ]
  },
  {
   "cell_type": "code",
   "execution_count": 6,
   "metadata": {},
   "outputs": [
    {
     "name": "stdout",
     "output_type": "stream",
     "text": [
      "SOLUTION FOUND: [0 3 1 4 2] SOLUTION FOUND: [2 4 1 3 0] It's populated over here!\n",
      "[0 4 2 1 3]\n",
      "[2 3 0 1 4]\n",
      "[2 4 0 3 1]\n",
      "[2 3 0 1 4]\n",
      "[1 2 4 0 3]\n",
      "[1 0 4 3 2]\n",
      "[1 3 0 4 2]\n",
      "[1 4 3 2 0]\n",
      "[2 0 4 3 1]\n",
      "[0 3 1 4 2]\n",
      "[0 2 4 3 1]\n",
      "[2 1 4 0 3]\n",
      "[2 1 3 0 4]\n",
      "[0 3 4 2 1]\n",
      "[1 4 0 3 2]\n",
      "[0 3 4 2 1]\n",
      "[1 0 4 3 2]\n",
      "[2 0 1 4 3]\n",
      "[0 4 3 2 1]\n",
      "[1 2 3 0 4]\n",
      "[1 0 2 3 4]\n",
      "[2 3 1 4 0]\n",
      "[2 1 0 3 4]\n",
      "[0 2 3 4 1]\n",
      "[2 3 4 0 1]\n",
      "[2 3 1 0 4]\n",
      "[1 3 4 2 0]\n",
      "[2 4 0 3 1]\n",
      "[2 1 0 4 3]\n",
      "[0 3 2 4 1]\n",
      "[2 0 4 1 3]\n",
      "[0 4 2 1 3]\n",
      "[0 4 2 3 1]\n",
      "[0 3 1 2 4]\n",
      "[0 1 3 4 2]\n",
      "[1 3 2 0 4]\n",
      "[2 1 3 0 4]\n",
      "[0 1 4 3 2]\n",
      "[1 2 4 3 0]\n",
      "[1 3 4 0 2]\n",
      "[1 0 2 4 3]\n",
      "[0 3 4 2 1]\n",
      "[2 4 3 1 0]\n",
      "[0 1 2 4 3]\n",
      "[2 3 1 4 0]\n",
      "[1 3 4 0 2]\n",
      "[1 0 2 4 3]\n",
      "[1 3 0 4 2]\n",
      "[1 4 3 0 2]\n",
      "[2 4 1 3 0]\n"
     ]
    }
   ],
   "source": [
    "evol_manager = EvolManager(5, 50, 10)\n",
    "for c in evol_manager.get_chrom_array():\n",
    "    print(c.get_positions())"
   ]
  },
  {
   "cell_type": "code",
   "execution_count": 7,
   "metadata": {},
   "outputs": [
    {
     "name": "stdout",
     "output_type": "stream",
     "text": [
      "[0 3 1 4 2]\n",
      "[2 4 1 3 0]\n"
     ]
    }
   ],
   "source": [
    "for c in evol_manager.get_solutions():\n",
    "    print(c.get_positions())"
   ]
  },
  {
   "cell_type": "code",
   "execution_count": 8,
   "metadata": {},
   "outputs": [],
   "source": [
    "s0 = Chromosome([2, 0, 3, 1, 4])\n",
    "s1 = Chromosome([0, 2, 4, 1, 3])\n",
    "s2 = Chromosome([1, 3, 0, 2, 4])\n",
    "s3 = Chromosome([1, 4, 2, 0, 3])\n",
    "s4 = Chromosome([2, 4, 1, 3, 0])\n",
    "s5 = Chromosome([0, 3, 1, 4, 2])"
   ]
  },
  {
   "cell_type": "code",
   "execution_count": 9,
   "metadata": {},
   "outputs": [
    {
     "name": "stdout",
     "output_type": "stream",
     "text": [
      "[[ 0 15  0  0  0]\n",
      " [ 0  0  0 15  0]\n",
      " [15  0  0  0  0]\n",
      " [ 0  0 15  0  0]\n",
      " [ 0  0  0  0 15]]\n"
     ]
    }
   ],
   "source": [
    "s0.print_board()"
   ]
  },
  {
   "cell_type": "code",
   "execution_count": 10,
   "metadata": {},
   "outputs": [
    {
     "name": "stdout",
     "output_type": "stream",
     "text": [
      "[[15  0  0  0  0]\n",
      " [ 0  0  0 15  0]\n",
      " [ 0 15  0  0  0]\n",
      " [ 0  0  0  0 15]\n",
      " [ 0  0 15  0  0]]\n"
     ]
    }
   ],
   "source": [
    "s1.print_board()"
   ]
  },
  {
   "cell_type": "code",
   "execution_count": 11,
   "metadata": {},
   "outputs": [
    {
     "name": "stdout",
     "output_type": "stream",
     "text": [
      "[[ 0  0 15  0  0]\n",
      " [15  0  0  0  0]\n",
      " [ 0  0  0 15  0]\n",
      " [ 0 15  0  0  0]\n",
      " [ 0  0  0  0 15]]\n"
     ]
    }
   ],
   "source": [
    "s2.print_board()"
   ]
  },
  {
   "cell_type": "code",
   "execution_count": 12,
   "metadata": {},
   "outputs": [
    {
     "name": "stdout",
     "output_type": "stream",
     "text": [
      "[[ 0  0  0 15  0]\n",
      " [15  0  0  0  0]\n",
      " [ 0  0 15  0  0]\n",
      " [ 0  0  0  0 15]\n",
      " [ 0 15  0  0  0]]\n"
     ]
    }
   ],
   "source": [
    "s3.print_board()"
   ]
  },
  {
   "cell_type": "code",
   "execution_count": 13,
   "metadata": {},
   "outputs": [
    {
     "name": "stdout",
     "output_type": "stream",
     "text": [
      "[[ 0  0  0  0 15]\n",
      " [ 0  0 15  0  0]\n",
      " [15  0  0  0  0]\n",
      " [ 0  0  0 15  0]\n",
      " [ 0 15  0  0  0]]\n"
     ]
    }
   ],
   "source": [
    "s4.print_board()"
   ]
  },
  {
   "cell_type": "code",
   "execution_count": 14,
   "metadata": {},
   "outputs": [
    {
     "name": "stdout",
     "output_type": "stream",
     "text": [
      "[[15  0  0  0  0]\n",
      " [ 0  0 15  0  0]\n",
      " [ 0  0  0  0 15]\n",
      " [ 0 15  0  0  0]\n",
      " [ 0  0  0 15  0]]\n"
     ]
    }
   ],
   "source": [
    "s5.print_board()"
   ]
  },
  {
   "attachments": {},
   "cell_type": "markdown",
   "metadata": {},
   "source": [
    "## get_solution_times()"
   ]
  },
  {
   "cell_type": "code",
   "execution_count": 15,
   "metadata": {},
   "outputs": [
    {
     "name": "stdout",
     "output_type": "stream",
     "text": [
      "SOLUTION FOUND: [0 3 1 4 2] It's populated over here!\n"
     ]
    }
   ],
   "source": [
    "evol_manager = EvolManager(5, 50, 10)\n",
    "# for c in evol_manager.get_chrom_array():\n",
    "#     print(c.get_positions())"
   ]
  },
  {
   "cell_type": "code",
   "execution_count": 16,
   "metadata": {},
   "outputs": [
    {
     "data": {
      "text/plain": [
       "array([0.])"
      ]
     },
     "execution_count": 16,
     "metadata": {},
     "output_type": "execute_result"
    }
   ],
   "source": [
    "evol_manager.get_solution_times()"
   ]
  },
  {
   "cell_type": "code",
   "execution_count": 17,
   "metadata": {},
   "outputs": [
    {
     "data": {
      "text/plain": [
       "array([0])"
      ]
     },
     "execution_count": 17,
     "metadata": {},
     "output_type": "execute_result"
    }
   ],
   "source": [
    "evol_manager.get_sol_generations()"
   ]
  },
  {
   "attachments": {},
   "cell_type": "markdown",
   "metadata": {},
   "source": [
    "## get_best_chrom_fitness(),  \n",
    "## get_best_chrom_mutual_threats()"
   ]
  },
  {
   "cell_type": "code",
   "execution_count": 18,
   "metadata": {},
   "outputs": [
    {
     "name": "stdout",
     "output_type": "stream",
     "text": [
      "SOLUTION FOUND: [2 0 3 1 4] SOLUTION FOUND: [0 2 4 1 3] SOLUTION FOUND: [1 4 2 0 3] SOLUTION FOUND: [2 0 3 1 4] SOLUTION FOUND: [1 3 0 2 4] SOLUTION FOUND: [2 4 1 3 0] SOLUTION FOUND: [2 0 3 1 4] SOLUTION FOUND: [1 4 2 0 3] It's populated over here!\n"
     ]
    }
   ],
   "source": [
    "evol_manager = EvolManager(5, 50, 10)\n",
    "# for c in evol_manager.get_chrom_array():\n",
    "#     print(c.get_positions())"
   ]
  },
  {
   "cell_type": "code",
   "execution_count": 19,
   "metadata": {},
   "outputs": [
    {
     "name": "stdout",
     "output_type": "stream",
     "text": [
      "SOLUTION FOUND: [2 0 3 1 4] SOLUTION FOUND: [0 2 4 1 3] SOLUTION FOUND: [1 4 2 0 3] SOLUTION FOUND: [2 0 3 1 4] SOLUTION FOUND: [1 3 0 2 4] SOLUTION FOUND: [2 4 1 3 0] SOLUTION FOUND: [2 0 3 1 4] SOLUTION FOUND: [1 4 2 0 3] SOLUTION FOUND: [2 0 3 1 4] "
     ]
    },
    {
     "data": {
      "text/plain": [
       "1.0"
      ]
     },
     "execution_count": 19,
     "metadata": {},
     "output_type": "execute_result"
    }
   ],
   "source": [
    "evol_manager.get_best_chrom_fitness()"
   ]
  },
  {
   "cell_type": "code",
   "execution_count": 20,
   "metadata": {},
   "outputs": [
    {
     "name": "stdout",
     "output_type": "stream",
     "text": [
      "SOLUTION FOUND: [2 0 3 1 4] SOLUTION FOUND: [0 2 4 1 3] SOLUTION FOUND: [1 4 2 0 3] SOLUTION FOUND: [2 0 3 1 4] SOLUTION FOUND: [1 3 0 2 4] SOLUTION FOUND: [2 4 1 3 0] SOLUTION FOUND: [2 0 3 1 4] SOLUTION FOUND: [1 4 2 0 3] "
     ]
    },
    {
     "data": {
      "text/plain": [
       "0"
      ]
     },
     "execution_count": 20,
     "metadata": {},
     "output_type": "execute_result"
    }
   ],
   "source": [
    "evol_manager.get_best_chrom_mutual_threats()"
   ]
  },
  {
   "attachments": {},
   "cell_type": "markdown",
   "metadata": {},
   "source": [
    "## get_reproductive_pool()"
   ]
  },
  {
   "cell_type": "code",
   "execution_count": null,
   "metadata": {},
   "outputs": [],
   "source": []
  },
  {
   "attachments": {},
   "cell_type": "markdown",
   "metadata": {},
   "source": [
    "## get_offspring()"
   ]
  },
  {
   "cell_type": "code",
   "execution_count": null,
   "metadata": {},
   "outputs": [],
   "source": []
  },
  {
   "attachments": {},
   "cell_type": "markdown",
   "metadata": {},
   "source": [
    "## set_chrom_array()"
   ]
  },
  {
   "cell_type": "code",
   "execution_count": 21,
   "metadata": {},
   "outputs": [
    {
     "name": "stdout",
     "output_type": "stream",
     "text": [
      "It's populated over here!\n",
      "type(self.__chrom_array[0]): <class 'chromosome.Chromosome'>\n",
      "__chrom_array members: \n",
      "[2 4 3 1 0] fitness: 0.8\n",
      "[1 3 0 4 2] fitness: 0.8\n",
      "[2 4 0 1 3] fitness: 0.8\n",
      "[0 4 2 1 3] fitness: 0.8\n",
      "[0 3 2 1 4] fitness: 0.4\n"
     ]
    }
   ],
   "source": [
    "evol_manager = EvolManager(5, 5, 10)\n",
    "\n",
    "evol_manager.show_chromosomes_positions()\n"
   ]
  },
  {
   "cell_type": "code",
   "execution_count": 22,
   "metadata": {},
   "outputs": [
    {
     "name": "stdout",
     "output_type": "stream",
     "text": [
      "type(self.__chrom_array[0]): <class 'chromosome.Chromosome'>\n",
      "__chrom_array members: \n",
      "[2 0 3 1 4] SOLUTION FOUND: [2 0 3 1 4] fitness: 1.0\n",
      "[0 2 4 1 3] SOLUTION FOUND: [0 2 4 1 3] fitness: 1.0\n",
      "[1 3 0 2 4] SOLUTION FOUND: [1 3 0 2 4] fitness: 1.0\n",
      "[1 4 2 0 3] SOLUTION FOUND: [1 4 2 0 3] fitness: 1.0\n",
      "[2 4 1 3 0] SOLUTION FOUND: [2 4 1 3 0] fitness: 1.0\n"
     ]
    }
   ],
   "source": [
    "vectors_array = np.array([\n",
    "    np.array([2, 0, 3, 1, 4]),\n",
    "    np.array([0, 2, 4, 1, 3]),\n",
    "    np.array([1, 3, 0, 2, 4]),\n",
    "    np.array([1, 4, 2, 0, 3]),\n",
    "    np.array([2, 4, 1, 3, 0]),\n",
    "    ])\n",
    "\n",
    "evol_manager.set_chrom_array(vectors_array)\n",
    "evol_manager.show_chromosomes_positions()"
   ]
  },
  {
   "attachments": {},
   "cell_type": "markdown",
   "metadata": {},
   "source": [
    "## show_chromosomes_positions()"
   ]
  },
  {
   "cell_type": "code",
   "execution_count": 23,
   "metadata": {},
   "outputs": [
    {
     "name": "stdout",
     "output_type": "stream",
     "text": [
      "It's populated over here!\n"
     ]
    }
   ],
   "source": [
    "evol_manager = EvolManager(5, 5, 10)"
   ]
  },
  {
   "cell_type": "code",
   "execution_count": 24,
   "metadata": {},
   "outputs": [
    {
     "name": "stdout",
     "output_type": "stream",
     "text": [
      "type(self.__chrom_array[0]): <class 'chromosome.Chromosome'>\n",
      "__chrom_array members: \n",
      "[1 4 3 2 0] fitness: 0.6\n",
      "[0 4 3 1 2] fitness: 0.8\n",
      "[2 4 1 0 3] fitness: 0.8\n",
      "[2 0 1 3 4] fitness: 0.8\n",
      "[1 2 4 0 3] fitness: 0.8\n"
     ]
    }
   ],
   "source": [
    "evol_manager.show_chromosomes_positions()"
   ]
  },
  {
   "attachments": {},
   "cell_type": "markdown",
   "metadata": {},
   "source": [
    "## show_solutions()"
   ]
  },
  {
   "cell_type": "code",
   "execution_count": 97,
   "metadata": {},
   "outputs": [
    {
     "name": "stdout",
     "output_type": "stream",
     "text": [
      "SOLUTION FOUND: [0 2 4 1 3] SOLUTION FOUND: [1 4 2 0 3] SOLUTION FOUND: [0 3 1 4 2] SOLUTION FOUND: [1 3 0 2 4] SOLUTION FOUND: [1 3 0 2 4] SOLUTION FOUND: [2 0 3 1 4] It's populated over here!\n"
     ]
    }
   ],
   "source": [
    "evol_manager = EvolManager(5, 50, 10)"
   ]
  },
  {
   "cell_type": "code",
   "execution_count": 98,
   "metadata": {},
   "outputs": [
    {
     "name": "stdout",
     "output_type": "stream",
     "text": [
      "Solutions: \n",
      "solution [0]: [0 2 4 1 3].                     Generation: 0\n",
      "solution [1]: [1 4 2 0 3].                     Generation: 0\n",
      "solution [2]: [0 3 1 4 2].                     Generation: 0\n",
      "solution [3]: [1 3 0 2 4].                     Generation: 0\n",
      "solution [4]: [2 0 3 1 4].                     Generation: 0\n"
     ]
    }
   ],
   "source": [
    "evol_manager.show_solutions()"
   ]
  },
  {
   "cell_type": "code",
   "execution_count": 99,
   "metadata": {},
   "outputs": [
    {
     "name": "stdout",
     "output_type": "stream",
     "text": [
      "type(self.__chrom_array[0]): <class 'chromosome.Chromosome'>\n",
      "__chrom_array members: \n",
      "[2 4 1 0 3] fitness: 0.8\n",
      "[1 0 4 3 2] fitness: 0.6\n",
      "[0 3 2 1 4] fitness: 0.4\n",
      "[1 3 4 0 2] fitness: 0.8\n",
      "[0 2 4 1 3] SOLUTION FOUND: [0 2 4 1 3] fitness: 1.0\n",
      "[1 0 3 2 4] fitness: 0.6\n",
      "[0 2 3 1 4] fitness: 0.8\n",
      "[2 0 4 1 3] fitness: 0.8\n",
      "[1 0 3 4 2] fitness: 0.6\n",
      "[2 0 1 4 3] fitness: 0.6\n",
      "[0 2 4 3 1] fitness: 0.8\n",
      "[0 3 1 2 4] fitness: 0.8\n",
      "[1 2 0 3 4] fitness: 0.8\n",
      "[2 0 3 4 1] fitness: 0.8\n",
      "[1 2 3 0 4] fitness: 0.6\n",
      "[1 4 2 0 3] SOLUTION FOUND: [1 4 2 0 3] fitness: 1.0\n",
      "[2 0 4 3 1] fitness: 0.8\n",
      "[0 3 1 4 2] SOLUTION FOUND: [0 3 1 4 2] fitness: 1.0\n",
      "[0 4 3 2 1] fitness: 0.4\n",
      "[1 3 0 2 4] SOLUTION FOUND: [1 3 0 2 4] fitness: 1.0\n",
      "[1 3 0 2 4] SOLUTION FOUND: [1 3 0 2 4] fitness: 1.0\n",
      "[0 4 1 2 3] fitness: 0.6\n",
      "[2 1 4 0 3] fitness: 0.8\n",
      "[0 2 3 4 1] fitness: 0.6\n",
      "[1 4 3 2 0] fitness: 0.6\n",
      "[2 4 3 0 1] fitness: 0.6\n",
      "[1 0 3 2 4] fitness: 0.6\n",
      "[2 4 0 3 1] fitness: 0.8\n",
      "[0 1 4 3 2] fitness: 0.4\n",
      "[0 4 2 1 3] fitness: 0.8\n",
      "[1 2 0 3 4] fitness: 0.8\n",
      "[2 0 1 3 4] fitness: 0.8\n",
      "[1 4 2 3 0] fitness: 0.8\n",
      "[0 1 3 2 4] fitness: 0.6\n",
      "[1 0 2 3 4] fitness: 0.6\n",
      "[2 0 1 3 4] fitness: 0.8\n",
      "[2 3 0 1 4] fitness: 0.6\n",
      "[2 3 0 1 4] fitness: 0.6\n",
      "[0 3 2 4 1] fitness: 0.8\n",
      "[2 4 3 0 1] fitness: 0.6\n",
      "[2 1 0 3 4] fitness: 0.4\n",
      "[1 3 2 4 0] fitness: 0.6\n",
      "[0 4 3 1 2] fitness: 0.8\n",
      "[0 4 1 2 3] fitness: 0.6\n",
      "[2 0 4 1 3] fitness: 0.8\n",
      "[2 0 1 4 3] fitness: 0.6\n",
      "[2 0 3 1 4] SOLUTION FOUND: [2 0 3 1 4] fitness: 1.0\n",
      "[1 0 3 2 4] fitness: 0.6\n",
      "[2 3 4 0 1] fitness: 0.6\n",
      "[0 1 3 4 2] fitness: 0.8\n"
     ]
    }
   ],
   "source": [
    "evol_manager.show_chromosomes_positions()"
   ]
  },
  {
   "attachments": {},
   "cell_type": "markdown",
   "metadata": {},
   "source": [
    "## make_reproductive_pool() & sorting by fitness"
   ]
  },
  {
   "cell_type": "code",
   "execution_count": 118,
   "metadata": {},
   "outputs": [
    {
     "name": "stdout",
     "output_type": "stream",
     "text": [
      "[3 1 4 7 6 0 2 5] fitness: 0.9285714285714286\n",
      "[0 2 1 4 3 6 5 7] fitness: 0.6428571428571429\n",
      "[0 6 3 4 7 2 1 5] fitness: 0.75\n",
      "[1 4 6 5 2 3 0 7] fitness: 0.8214285714285714\n",
      "[2 5 3 4 0 1 6 7] fitness: 0.8571428571428571\n"
     ]
    }
   ],
   "source": [
    "chrom_list = []\n",
    "chr = Chromosome( np.arange(8) )\n",
    "\n",
    "for i in range(5):\n",
    "    chrom_list.append( Chromosome( chr.random_vec() ) )\n",
    "\n",
    "for c in chrom_list:\n",
    "    print(f\"{c.get_positions()} fitness: {c.fitness()}\")"
   ]
  },
  {
   "cell_type": "code",
   "execution_count": 119,
   "metadata": {},
   "outputs": [
    {
     "name": "stdout",
     "output_type": "stream",
     "text": [
      "[3 1 4 7 6 0 2 5] fitness: 0.9285714285714286\n",
      "[2 5 3 4 0 1 6 7] fitness: 0.8571428571428571\n",
      "[1 4 6 5 2 3 0 7] fitness: 0.8214285714285714\n",
      "[0 6 3 4 7 2 1 5] fitness: 0.75\n",
      "[0 2 1 4 3 6 5 7] fitness: 0.6428571428571429\n"
     ]
    }
   ],
   "source": [
    "sorted_chrom_list = sorted(chrom_list, key=lambda crom: -crom.fitness())\n",
    "\n",
    "for c in sorted_chrom_list:\n",
    "    print(f\"{c.get_positions()} fitness: {c.fitness()}\")"
   ]
  },
  {
   "cell_type": "code",
   "execution_count": 120,
   "metadata": {},
   "outputs": [
    {
     "name": "stdout",
     "output_type": "stream",
     "text": [
      "[3 1 4 7 6 0 2 5]\n",
      "[0 2 1 4 3 6 5 7]\n",
      "[0 6 3 4 7 2 1 5]\n",
      "[1 4 6 5 2 3 0 7]\n",
      "[2 5 3 4 0 1 6 7]\n"
     ]
    }
   ],
   "source": [
    "for i in chrom_list:\n",
    "    print(i.get_positions())"
   ]
  },
  {
   "cell_type": "code",
   "execution_count": 174,
   "metadata": {},
   "outputs": [
    {
     "data": {
      "text/plain": [
       "[<chromosome.Chromosome at 0x7ffb6e554390>,\n",
       " <chromosome.Chromosome at 0x7ffb6e3dcb90>,\n",
       " <chromosome.Chromosome at 0x7ffb6e3dce50>,\n",
       " <chromosome.Chromosome at 0x7ffb6e3dded0>]"
      ]
     },
     "execution_count": 174,
     "metadata": {},
     "output_type": "execute_result"
    }
   ],
   "source": [
    "chrom_list.pop(2)\n",
    "chrom_list"
   ]
  },
  {
   "cell_type": "code",
   "execution_count": 175,
   "metadata": {},
   "outputs": [
    {
     "name": "stdout",
     "output_type": "stream",
     "text": [
      "[3 1 4 7 6 0 2 5]\n",
      "[0 2 1 4 3 6 5 7]\n",
      "[1 4 6 5 2 3 0 7]\n",
      "[2 5 3 4 0 1 6 7]\n"
     ]
    }
   ],
   "source": [
    "for i in chrom_list:\n",
    "    print(i.get_positions())"
   ]
  },
  {
   "cell_type": "code",
   "execution_count": 176,
   "metadata": {},
   "outputs": [
    {
     "data": {
      "text/plain": [
       "array([3, 1, 4, 7, 6, 0, 2, 5])"
      ]
     },
     "execution_count": 176,
     "metadata": {},
     "output_type": "execute_result"
    }
   ],
   "source": [
    "a = chrom_list[0]\n",
    "a.get_positions()"
   ]
  },
  {
   "cell_type": "code",
   "execution_count": 178,
   "metadata": {},
   "outputs": [
    {
     "ename": "ValueError",
     "evalue": "list.remove(x): x not in list",
     "output_type": "error",
     "traceback": [
      "\u001b[0;31m---------------------------------------------------------------------------\u001b[0m",
      "\u001b[0;31mValueError\u001b[0m                                Traceback (most recent call last)",
      "Cell \u001b[0;32mIn[178], line 1\u001b[0m\n\u001b[0;32m----> 1\u001b[0m chrom_list\u001b[39m.\u001b[39;49mremove(a)\n",
      "\u001b[0;31mValueError\u001b[0m: list.remove(x): x not in list"
     ]
    }
   ],
   "source": [
    "chrom_list.remove(a)"
   ]
  }
 ],
 "metadata": {
  "kernelspec": {
   "display_name": "JNotebook",
   "language": "python",
   "name": "python3"
  },
  "language_info": {
   "codemirror_mode": {
    "name": "ipython",
    "version": 3
   },
   "file_extension": ".py",
   "mimetype": "text/x-python",
   "name": "python",
   "nbconvert_exporter": "python",
   "pygments_lexer": "ipython3",
   "version": "3.11.0"
  },
  "orig_nbformat": 4,
  "vscode": {
   "interpreter": {
    "hash": "0e66c959f5d77bb1e57246f829e345acab1d0f17b55cc99097fd285b0b092c57"
   }
  }
 },
 "nbformat": 4,
 "nbformat_minor": 2
}
