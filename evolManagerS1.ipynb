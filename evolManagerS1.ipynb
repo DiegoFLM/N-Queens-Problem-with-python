{
 "cells": [
  {
   "cell_type": "code",
   "execution_count": 1,
   "metadata": {},
   "outputs": [],
   "source": [
    "import nbimporter\n",
    "import numpy as np\n",
    "import random\n",
    "import time\n",
    "import math\n",
    "\n",
    "# import chromosome as Chr"
   ]
  },
  {
   "cell_type": "code",
   "execution_count": 2,
   "metadata": {},
   "outputs": [],
   "source": [
    "from chromosome import Chromosome"
   ]
  },
  {
   "cell_type": "code",
   "execution_count": 3,
   "metadata": {},
   "outputs": [
    {
     "data": {
      "text/plain": [
       "array([0, 1, 2])"
      ]
     },
     "execution_count": 3,
     "metadata": {},
     "output_type": "execute_result"
    }
   ],
   "source": [
    "base = Chromosome(np.arange(3))\n",
    "base.get_positions()"
   ]
  },
  {
   "cell_type": "code",
   "execution_count": 4,
   "metadata": {},
   "outputs": [],
   "source": [
    "class EvolManager:\n",
    "    def __init__(\n",
    "        self,\n",
    "        genes_per_chrom,\n",
    "        pop,\n",
    "        generations,\n",
    "        mating_pool_size = None,\n",
    "        offspring = None,\n",
    "        mutation_rate = 0.2,\n",
    "        ):\n",
    "\n",
    "        if mating_pool_size is None:\n",
    "            mating_pool_size = math.floor(pop * 0.5)\n",
    "\n",
    "        if offspring is None:\n",
    "            offspring = mating_pool_size * 1.5\n",
    "\n",
    "        self.__n = genes_per_chrom\n",
    "        self.__population = pop\n",
    "        self.__generations = generations\n",
    "        self.__current_generation = 0\n",
    "        self.__chrom_array = []\n",
    "        self.__solutions = []\n",
    "        self.__sol_generations = np.array([], dtype = int)\n",
    "        self.__mating_pool = []\n",
    "        self.__sorted_chrom_array = []\n",
    "        self.__mating_pool_size = mating_pool_size\n",
    "        self.__offspring = []\n",
    "        self.__offspring_size = offspring\n",
    "        self.__big_arr = []\n",
    "        self.__solution_times = np.array([])\n",
    "\n",
    "        self.populate()\n",
    "\n",
    "\n",
    "    def populate(self):\n",
    "        proto_chrom = Chromosome(list(range(self.__n)))\n",
    "\n",
    "        for i in range(self.__population):\n",
    "            self.__chrom_array.append( \n",
    "                Chromosome(proto_chrom.random_chromosome()) )\n",
    "\n",
    "        for i in range(len(self.__chrom_array)):\n",
    "            new_sol = True\n",
    "            if self.__chrom_array[i].fitness() == 1.00:\n",
    "                for j in range(len(self.__solutions)):\n",
    "                    if np.array_equal( self.__chrom_array[i].get_positions(),\n",
    "                        self.__solutions[j].get_positions() ):\n",
    "\n",
    "                        new_sol = False\n",
    "                        break\n",
    "                if new_sol:\n",
    "                    self.__solutions.append(self.__chrom_array[i])\n",
    "                    self.__sol_generations = np.append(self.__sol_generations, \n",
    "                        self.__current_generation)\n",
    "                    self.__solution_times = np.append(self.__solution_times, 0)\n",
    "        print(\"It's populated over here!\")\n",
    "\n",
    "\n",
    "    def get_chrom_array(self):\n",
    "        return self.__chrom_array\n",
    "\n",
    "\n",
    "    def get_solutions(self):\n",
    "        return self.__solutions\n",
    "\n",
    "\n",
    "    def get_solution_times(self):\n",
    "        return self.__solution_times\n",
    "\n",
    "    \n",
    "    def get_sol_generations(self):\n",
    "        return self.__sol_generations\n",
    "\n",
    "\n",
    "    def get_best_chrom_fitness(self):\n",
    "        ordered_popul = sorted( self.__chrom_array, \n",
    "            key = lambda chrom: - chrom.fitness() )\n",
    "        return ordered_popul[0].fitness()\n",
    "\n",
    "\n",
    "    def get_best_chrom_mutual_threats(self):\n",
    "        ordered_popul = sorted( self.__chrom_array, \n",
    "            key = lambda chrom: - chrom.fitness())\n",
    "        return ordered_popul[0].mutual_threats()\n",
    "\n",
    "\n",
    "    def get_mating_pool(self):\n",
    "        return self.__mating_pool\n",
    "\n",
    "\n",
    "    def get_offspring(self):\n",
    "        return self.__offspring\n",
    "\n",
    "    # show_chromosomes\n",
    "    def show_chrom_positions(self):\n",
    "        print(\"__chrom_array members: \")\n",
    "        for i in self.__chrom_array:\n",
    "            print(f\"{i.get_positions()}\", end = \" \") \n",
    "            print(f\"fitness: {i.fitness()}\")\n"
   ]
  },
  {
   "attachments": {},
   "cell_type": "markdown",
   "metadata": {},
   "source": [
    "# Testing"
   ]
  },
  {
   "attachments": {},
   "cell_type": "markdown",
   "metadata": {},
   "source": [
    "def __init__(  \n",
    "> self,  \n",
    "        genes_per_chrom,  \n",
    "        pop,  \n",
    "        generations,  \n",
    "        mating_pool_size = None,  \n",
    "        offspring = None,  \n",
    "        mutation_rate = 0.2,  \n",
    "        ):"
   ]
  },
  {
   "attachments": {},
   "cell_type": "markdown",
   "metadata": {},
   "source": [
    "## _ _ init _ _ ( ), populate(), get_chrom_array()"
   ]
  },
  {
   "cell_type": "code",
   "execution_count": 6,
   "metadata": {},
   "outputs": [
    {
     "name": "stdout",
     "output_type": "stream",
     "text": [
      "It's populated over here!\n",
      "[2 4 3 0 1]\n",
      "[2 4 0 3 1]\n",
      "[0 1 2 3 4]\n",
      "[2 0 1 3 4]\n",
      "[2 3 4 1 0]\n"
     ]
    }
   ],
   "source": [
    "evol_manager = EvolManager(5, 5, 10)\n",
    "for c in evol_manager.get_chrom_array():\n",
    "    print(c.get_positions())"
   ]
  },
  {
   "attachments": {},
   "cell_type": "markdown",
   "metadata": {},
   "source": [
    "## get_solutions()"
   ]
  },
  {
   "cell_type": "code",
   "execution_count": 7,
   "metadata": {},
   "outputs": [
    {
     "name": "stdout",
     "output_type": "stream",
     "text": [
      "SOLUTION FOUND: [2 0 3 1 4]\n",
      "SOLUTION FOUND: [1 3 0 2 4]\n",
      "SOLUTION FOUND: [0 3 1 4 2]\n",
      "It's populated over here!\n",
      "[0 3 2 4 1]\n",
      "[1 2 0 3 4]\n",
      "[0 1 2 3 4]\n",
      "[0 2 1 4 3]\n",
      "[1 4 2 3 0]\n",
      "[0 2 3 1 4]\n",
      "[0 4 1 2 3]\n",
      "[2 0 3 4 1]\n",
      "[2 0 3 4 1]\n",
      "[2 1 0 3 4]\n",
      "[2 3 1 0 4]\n",
      "[1 0 2 4 3]\n",
      "[2 1 0 4 3]\n",
      "[1 2 4 0 3]\n",
      "[1 0 4 2 3]\n",
      "[0 2 1 3 4]\n",
      "[2 1 4 0 3]\n",
      "[1 0 4 2 3]\n",
      "[1 2 4 3 0]\n",
      "[0 2 1 4 3]\n",
      "[1 0 3 4 2]\n",
      "[0 1 3 4 2]\n",
      "[2 0 3 1 4]\n",
      "[0 1 4 2 3]\n",
      "[1 3 0 2 4]\n",
      "[2 0 3 4 1]\n",
      "[2 0 4 3 1]\n",
      "[0 1 3 4 2]\n",
      "[0 4 2 1 3]\n",
      "[0 1 3 2 4]\n",
      "[0 3 1 4 2]\n",
      "[0 4 3 1 2]\n",
      "[1 4 3 0 2]\n",
      "[0 3 1 2 4]\n",
      "[1 3 2 4 0]\n",
      "[1 2 0 4 3]\n",
      "[0 1 4 2 3]\n",
      "[1 2 0 3 4]\n",
      "[1 4 0 3 2]\n",
      "[2 0 4 1 3]\n",
      "[2 1 3 4 0]\n",
      "[0 2 1 3 4]\n",
      "[0 3 2 1 4]\n",
      "[1 3 0 4 2]\n",
      "[0 1 2 3 4]\n",
      "[2 0 4 1 3]\n",
      "[1 2 4 0 3]\n",
      "[1 0 2 4 3]\n",
      "[2 0 1 3 4]\n",
      "[1 0 4 2 3]\n"
     ]
    }
   ],
   "source": [
    "evol_manager = EvolManager(5, 50, 10)\n",
    "for c in evol_manager.get_chrom_array():\n",
    "    print(c.get_positions())"
   ]
  },
  {
   "cell_type": "code",
   "execution_count": 8,
   "metadata": {},
   "outputs": [
    {
     "name": "stdout",
     "output_type": "stream",
     "text": [
      "[2 0 3 1 4]\n",
      "[1 3 0 2 4]\n",
      "[0 3 1 4 2]\n"
     ]
    }
   ],
   "source": [
    "for c in evol_manager.get_solutions():\n",
    "    print(c.get_positions())"
   ]
  },
  {
   "cell_type": "code",
   "execution_count": 9,
   "metadata": {},
   "outputs": [],
   "source": [
    "s0 = Chromosome([2, 0, 3, 1, 4])\n",
    "s1 = Chromosome([0, 2, 4, 1, 3])\n",
    "s2 = Chromosome([1, 3, 0, 2, 4])\n",
    "s3 = Chromosome([1, 4, 2, 0, 3])\n",
    "s4 = Chromosome([2, 4, 1, 3, 0])\n",
    "s5 = Chromosome([0, 3, 1, 4, 2])"
   ]
  },
  {
   "cell_type": "code",
   "execution_count": 10,
   "metadata": {},
   "outputs": [
    {
     "name": "stdout",
     "output_type": "stream",
     "text": [
      "[[ 0 15  0  0  0]\n",
      " [ 0  0  0 15  0]\n",
      " [15  0  0  0  0]\n",
      " [ 0  0 15  0  0]\n",
      " [ 0  0  0  0 15]]\n"
     ]
    }
   ],
   "source": [
    "s0.print_board()"
   ]
  },
  {
   "cell_type": "code",
   "execution_count": 11,
   "metadata": {},
   "outputs": [
    {
     "name": "stdout",
     "output_type": "stream",
     "text": [
      "[[15  0  0  0  0]\n",
      " [ 0  0  0 15  0]\n",
      " [ 0 15  0  0  0]\n",
      " [ 0  0  0  0 15]\n",
      " [ 0  0 15  0  0]]\n"
     ]
    }
   ],
   "source": [
    "s1.print_board()"
   ]
  },
  {
   "cell_type": "code",
   "execution_count": 12,
   "metadata": {},
   "outputs": [
    {
     "name": "stdout",
     "output_type": "stream",
     "text": [
      "[[ 0  0 15  0  0]\n",
      " [15  0  0  0  0]\n",
      " [ 0  0  0 15  0]\n",
      " [ 0 15  0  0  0]\n",
      " [ 0  0  0  0 15]]\n"
     ]
    }
   ],
   "source": [
    "s2.print_board()"
   ]
  },
  {
   "cell_type": "code",
   "execution_count": 13,
   "metadata": {},
   "outputs": [
    {
     "name": "stdout",
     "output_type": "stream",
     "text": [
      "[[ 0  0  0 15  0]\n",
      " [15  0  0  0  0]\n",
      " [ 0  0 15  0  0]\n",
      " [ 0  0  0  0 15]\n",
      " [ 0 15  0  0  0]]\n"
     ]
    }
   ],
   "source": [
    "s3.print_board()"
   ]
  },
  {
   "cell_type": "code",
   "execution_count": 14,
   "metadata": {},
   "outputs": [
    {
     "name": "stdout",
     "output_type": "stream",
     "text": [
      "[[ 0  0  0  0 15]\n",
      " [ 0  0 15  0  0]\n",
      " [15  0  0  0  0]\n",
      " [ 0  0  0 15  0]\n",
      " [ 0 15  0  0  0]]\n"
     ]
    }
   ],
   "source": [
    "s4.print_board()"
   ]
  },
  {
   "cell_type": "code",
   "execution_count": 15,
   "metadata": {},
   "outputs": [
    {
     "name": "stdout",
     "output_type": "stream",
     "text": [
      "[[15  0  0  0  0]\n",
      " [ 0  0 15  0  0]\n",
      " [ 0  0  0  0 15]\n",
      " [ 0 15  0  0  0]\n",
      " [ 0  0  0 15  0]]\n"
     ]
    }
   ],
   "source": [
    "s5.print_board()"
   ]
  },
  {
   "attachments": {},
   "cell_type": "markdown",
   "metadata": {},
   "source": [
    "## get_solution_times()"
   ]
  },
  {
   "cell_type": "code",
   "execution_count": 16,
   "metadata": {},
   "outputs": [
    {
     "name": "stdout",
     "output_type": "stream",
     "text": [
      "SOLUTION FOUND: [2 4 1 3 0]\n",
      "SOLUTION FOUND: [1 4 2 0 3]\n",
      "It's populated over here!\n"
     ]
    }
   ],
   "source": [
    "evol_manager = EvolManager(5, 50, 10)\n",
    "# for c in evol_manager.get_chrom_array():\n",
    "#     print(c.get_positions())"
   ]
  },
  {
   "cell_type": "code",
   "execution_count": 17,
   "metadata": {},
   "outputs": [
    {
     "data": {
      "text/plain": [
       "array([0., 0.])"
      ]
     },
     "execution_count": 17,
     "metadata": {},
     "output_type": "execute_result"
    }
   ],
   "source": [
    "evol_manager.get_solution_times()"
   ]
  },
  {
   "cell_type": "code",
   "execution_count": 18,
   "metadata": {},
   "outputs": [
    {
     "data": {
      "text/plain": [
       "array([0, 0])"
      ]
     },
     "execution_count": 18,
     "metadata": {},
     "output_type": "execute_result"
    }
   ],
   "source": [
    "evol_manager.get_sol_generations()"
   ]
  },
  {
   "attachments": {},
   "cell_type": "markdown",
   "metadata": {},
   "source": [
    "## get_best_chrom_fitness(),  \n",
    "## get_best_chrom_mutual_threats()"
   ]
  },
  {
   "cell_type": "code",
   "execution_count": 19,
   "metadata": {},
   "outputs": [
    {
     "name": "stdout",
     "output_type": "stream",
     "text": [
      "SOLUTION FOUND: [0 2 4 1 3]\n",
      "SOLUTION FOUND: [0 3 1 4 2]\n",
      "SOLUTION FOUND: [2 0 3 1 4]\n",
      "SOLUTION FOUND: [0 3 1 4 2]\n",
      "It's populated over here!\n"
     ]
    }
   ],
   "source": [
    "evol_manager = EvolManager(5, 50, 10)\n",
    "# for c in evol_manager.get_chrom_array():\n",
    "#     print(c.get_positions())"
   ]
  },
  {
   "cell_type": "code",
   "execution_count": 20,
   "metadata": {},
   "outputs": [
    {
     "name": "stdout",
     "output_type": "stream",
     "text": [
      "SOLUTION FOUND: [0 2 4 1 3]\n",
      "SOLUTION FOUND: [0 3 1 4 2]\n",
      "SOLUTION FOUND: [2 0 3 1 4]\n",
      "SOLUTION FOUND: [0 3 1 4 2]\n",
      "SOLUTION FOUND: [0 2 4 1 3]\n"
     ]
    },
    {
     "data": {
      "text/plain": [
       "1.0"
      ]
     },
     "execution_count": 20,
     "metadata": {},
     "output_type": "execute_result"
    }
   ],
   "source": [
    "evol_manager.get_best_chrom_fitness()"
   ]
  },
  {
   "cell_type": "code",
   "execution_count": 21,
   "metadata": {},
   "outputs": [
    {
     "name": "stdout",
     "output_type": "stream",
     "text": [
      "SOLUTION FOUND: [0 2 4 1 3]\n",
      "SOLUTION FOUND: [0 3 1 4 2]\n",
      "SOLUTION FOUND: [2 0 3 1 4]\n",
      "SOLUTION FOUND: [0 3 1 4 2]\n"
     ]
    },
    {
     "data": {
      "text/plain": [
       "0.0"
      ]
     },
     "execution_count": 21,
     "metadata": {},
     "output_type": "execute_result"
    }
   ],
   "source": [
    "evol_manager.get_best_chrom_mutual_threats()"
   ]
  },
  {
   "attachments": {},
   "cell_type": "markdown",
   "metadata": {},
   "source": [
    "## get_mating_pool()"
   ]
  },
  {
   "cell_type": "code",
   "execution_count": null,
   "metadata": {},
   "outputs": [],
   "source": []
  },
  {
   "attachments": {},
   "cell_type": "markdown",
   "metadata": {},
   "source": [
    "## get_offspring()"
   ]
  },
  {
   "cell_type": "code",
   "execution_count": null,
   "metadata": {},
   "outputs": [],
   "source": []
  },
  {
   "attachments": {},
   "cell_type": "markdown",
   "metadata": {},
   "source": [
    "## show_chrom_positions()"
   ]
  },
  {
   "cell_type": "code",
   "execution_count": 22,
   "metadata": {},
   "outputs": [
    {
     "name": "stdout",
     "output_type": "stream",
     "text": [
      "SOLUTION FOUND: [1 3 0 2 4]\n",
      "SOLUTION FOUND: [2 4 1 3 0]\n",
      "It's populated over here!\n"
     ]
    }
   ],
   "source": [
    "evol_manager = EvolManager(5, 5, 10)"
   ]
  },
  {
   "cell_type": "code",
   "execution_count": 23,
   "metadata": {},
   "outputs": [
    {
     "name": "stdout",
     "output_type": "stream",
     "text": [
      "__chrom_array members: \n",
      "[1 3 0 2 4] SOLUTION FOUND: [1 3 0 2 4]\n",
      "fitness: 1.0\n",
      "[2 3 0 1 4] fitness: 0.6\n",
      "[0 4 2 1 3] fitness: 0.8\n",
      "[2 4 1 3 0] SOLUTION FOUND: [2 4 1 3 0]\n",
      "fitness: 1.0\n",
      "[0 1 4 2 3] fitness: 0.8\n"
     ]
    }
   ],
   "source": [
    "evol_manager.show_chrom_positions()"
   ]
  }
 ],
 "metadata": {
  "kernelspec": {
   "display_name": "JNotebook",
   "language": "python",
   "name": "python3"
  },
  "language_info": {
   "codemirror_mode": {
    "name": "ipython",
    "version": 3
   },
   "file_extension": ".py",
   "mimetype": "text/x-python",
   "name": "python",
   "nbconvert_exporter": "python",
   "pygments_lexer": "ipython3",
   "version": "3.11.0"
  },
  "orig_nbformat": 4,
  "vscode": {
   "interpreter": {
    "hash": "0e66c959f5d77bb1e57246f829e345acab1d0f17b55cc99097fd285b0b092c57"
   }
  }
 },
 "nbformat": 4,
 "nbformat_minor": 2
}
